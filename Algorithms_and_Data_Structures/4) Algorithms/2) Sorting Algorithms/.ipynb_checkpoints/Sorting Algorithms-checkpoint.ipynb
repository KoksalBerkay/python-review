{
 "cells": [
  {
   "cell_type": "markdown",
   "metadata": {},
   "source": [
    "# Sorting Algorithms"
   ]
  },
  {
   "cell_type": "markdown",
   "metadata": {},
   "source": [
    "## İçerik\n",
    "* [Bubble Sort](#1)\n",
    "* [Bubble Sort with Python](#2)\n",
    "* [Merge Sort](#3)\n",
    "* [Merge Sort with Python](#4)\n",
    "* [Insertion Sort](#5)\n",
    "* [Insertion Sort with Python](#6)\n",
    "* [Selection Sort](#7)\n",
    "* [Selection Sort with Python](#8)\n",
    "* [Counting Sort](#9)\n",
    "* [Counting Sort with Python](#10)\n",
    "* [Quick Sort](#11)\n",
    "* [Quick Sort with Python](#12)\n",
    "* [Heap Sort](#13)\n",
    "* [Sorting Algorithms İş Mülakatları Soru-Cevap](#55)\n",
    "* [Sorting Algorithms Python Challenge/Problem](#66)\n",
    "* [Neler Öğrendik](#99)\n"
   ]
  },
  {
   "cell_type": "markdown",
   "metadata": {},
   "source": [
    "<a id=\"1\"></a>\n",
    "## Bubble Sort\n",
    "* Bir listede birbirine ardışık duran iki değeri sıralama yapar ve bu süreci tüm liste sıralı hale gelene kadar devam eder.\n",
    "* https://visualgo.net/en/sorting"
   ]
  },
  {
   "cell_type": "markdown",
   "metadata": {},
   "source": [
    "<a id=\"2\"></a>\n",
    "## Bubble Sort with Python"
   ]
  },
  {
   "cell_type": "code",
   "execution_count": 1,
   "metadata": {},
   "outputs": [],
   "source": [
    "def bubbleSortAlgorithm(arr):\n",
    "    \"\"\"\n",
    "    bubble sort\n",
    "    \"\"\"\n",
    "    for n in range(len(arr)-1,0,-1): # [20,19,18,17 ... 0]\n",
    "        \n",
    "        for k in range(n):\n",
    "            #\n",
    "            \n",
    "            if arr[k] > arr[k+1]:\n",
    "                temp = arr[k]\n",
    "                arr[k] = arr[k+1]\n",
    "                arr[k+1] = temp\n",
    "    return arr"
   ]
  },
  {
   "cell_type": "code",
   "execution_count": 2,
   "metadata": {},
   "outputs": [
    {
     "data": {
      "text/plain": [
       "[2, 3, 4, 5, 6, 7, 8, 13, 20]"
      ]
     },
     "execution_count": 2,
     "metadata": {},
     "output_type": "execute_result"
    }
   ],
   "source": [
    "arr = [3,2,13,4,6,5,7,8,20]\n",
    "bubbleSortAlgorithm(arr)"
   ]
  },
  {
   "cell_type": "markdown",
   "metadata": {},
   "source": [
    "<a id=\"3\"></a>\n",
    "## Merge Sort\n",
    "* Merge sort bir recursive algoritmadır.\n",
    "* Bir diziyi boyutları 2 olacak şekilde sub arraylere bölene kadar bölmeye başlar.\n",
    "* Daha sonra en küçük sub array'den sıralamaya başlayarak birleştirir.\n",
    "* Splits list in a half.\n",
    "* ![Time](merge.jpg)"
   ]
  },
  {
   "cell_type": "markdown",
   "metadata": {},
   "source": [
    "<a id=\"4\"></a>\n",
    "## Merge Sort with Python"
   ]
  },
  {
   "cell_type": "code",
   "execution_count": 9,
   "metadata": {},
   "outputs": [],
   "source": [
    "def merge_sort(arr):\n",
    "    \"\"\"\n",
    "    merge sort\n",
    "    \"\"\"\n",
    "    if len(arr) > 1:\n",
    "        mid = int(len(arr) / 2)\n",
    "        lefthalf = arr[:mid]\n",
    "        righthalf = arr[mid:]\n",
    "        \n",
    "        merge_sort(lefthalf)\n",
    "        merge_sort(righthalf)\n",
    "        \n",
    "        i = 0\n",
    "        j = 0\n",
    "        k = 0\n",
    "        while i < len(lefthalf) and j < len(righthalf):\n",
    "            if lefthalf[i] < righthalf[j]:\n",
    "                arr[k] = lefthalf[i]\n",
    "                i += 1\n",
    "            else:\n",
    "                arr[k] = righthalf[j]\n",
    "                j += 1\n",
    "            k += 1\n",
    "        while i < len(lefthalf):\n",
    "            arr[k] = lefthalf[i]\n",
    "            i += 1\n",
    "            k += 1\n",
    "        while j < len(righthalf):\n",
    "            arr[k] = righthalf[j]\n",
    "            j += 1\n",
    "            k += 1\n",
    "    return arr"
   ]
  },
  {
   "cell_type": "code",
   "execution_count": 13,
   "metadata": {},
   "outputs": [
    {
     "data": {
      "text/plain": [
       "[1, 2, 3, 4, 5, 6, 7, 8, 13, 20]"
      ]
     },
     "execution_count": 13,
     "metadata": {},
     "output_type": "execute_result"
    }
   ],
   "source": [
    "arr = [3,2,13,4,6,5,7,8,1,20]\n",
    "merge_sort(arr)"
   ]
  },
  {
   "cell_type": "markdown",
   "metadata": {},
   "source": [
    "<a id=\"5\"></a>\n",
    "## Insertion Sort\n",
    "* Sub list kullanır.\n",
    "* İlk value bir sub list elemanıdır ve zaten tek bir değere sahip olduğu için sıralıdır. Bu sub listenin içerisine kalan değerler karşılaştırılarak eklenir.\n"
   ]
  },
  {
   "cell_type": "markdown",
   "metadata": {},
   "source": [
    "<a id=\"6\"></a>\n",
    "## Insertion Sort with Python"
   ]
  },
  {
   "cell_type": "code",
   "execution_count": 1,
   "metadata": {},
   "outputs": [],
   "source": [
    "def insertion_sort(arr):\n",
    "    \"\"\"\n",
    "    insertion sort\n",
    "    \"\"\"\n",
    "    for i in range(1,len(arr)):\n",
    "        \n",
    "        currentvalue = arr[i]\n",
    "        position = i\n",
    "        \n",
    "        #sublist\n",
    "        while position > 0 and arr[position-1] > currentvalue:\n",
    "            arr[position] = arr[position-1]\n",
    "            position -= 1\n",
    "            \n",
    "        arr[position] = currentvalue\n",
    "    return arr\n",
    "            "
   ]
  },
  {
   "cell_type": "code",
   "execution_count": 2,
   "metadata": {},
   "outputs": [
    {
     "data": {
      "text/plain": [
       "[1, 2, 3, 4, 5, 6, 7, 8, 13, 20]"
      ]
     },
     "execution_count": 2,
     "metadata": {},
     "output_type": "execute_result"
    }
   ],
   "source": [
    "arr = [3,2,13,4,6,5,7,8,1,20]\n",
    "insertion_sort(arr)"
   ]
  },
  {
   "cell_type": "markdown",
   "metadata": {},
   "source": [
    "<a id=\"7\"></a>\n",
    "## Selection Sort\n",
    "* Sıralı olmayan bir listem var.\n",
    "* Bu listenin içerisinde en küçük değeri bulup index 0'a atarım.\n",
    "* Daha sonra bir sonraki en küçük değeri bularak aramama devam ederim."
   ]
  },
  {
   "cell_type": "markdown",
   "metadata": {},
   "source": [
    "<a id=\"8\"></a>\n",
    "## Selection Sort with Python"
   ]
  },
  {
   "cell_type": "code",
   "execution_count": 43,
   "metadata": {},
   "outputs": [],
   "source": [
    "def selection_sort(arr):\n",
    "    \"\"\"\n",
    "    selection sort\n",
    "    \"\"\"\n",
    "    for i in range(len(arr)-1,0,-1):\n",
    "        positionOfmax = 0\n",
    "        \n",
    "        for location in range(1, i + 1):\n",
    "            if arr[location] > arr[positionOfmax]:\n",
    "                positionOfmax = location\n",
    "        print(positionOfmax)\n",
    "        temp = arr[i]\n",
    "        arr[i] = arr[positionOfmax]\n",
    "        arr[positionOfmax] = temp\n",
    "        print(arr)\n",
    "    return arr"
   ]
  },
  {
   "cell_type": "code",
   "execution_count": 44,
   "metadata": {},
   "outputs": [
    {
     "name": "stdout",
     "output_type": "stream",
     "text": [
      "9\n",
      "[3, 2, 13, 4, 6, 5, 7, 8, 1, 20]\n",
      "2\n",
      "[3, 2, 1, 4, 6, 5, 7, 8, 13, 20]\n",
      "7\n",
      "[3, 2, 1, 4, 6, 5, 7, 8, 13, 20]\n",
      "6\n",
      "[3, 2, 1, 4, 6, 5, 7, 8, 13, 20]\n",
      "4\n",
      "[3, 2, 1, 4, 5, 6, 7, 8, 13, 20]\n",
      "4\n",
      "[3, 2, 1, 4, 5, 6, 7, 8, 13, 20]\n",
      "3\n",
      "[3, 2, 1, 4, 5, 6, 7, 8, 13, 20]\n",
      "0\n",
      "[1, 2, 3, 4, 5, 6, 7, 8, 13, 20]\n",
      "1\n",
      "[1, 2, 3, 4, 5, 6, 7, 8, 13, 20]\n"
     ]
    },
    {
     "data": {
      "text/plain": [
       "[1, 2, 3, 4, 5, 6, 7, 8, 13, 20]"
      ]
     },
     "execution_count": 44,
     "metadata": {},
     "output_type": "execute_result"
    }
   ],
   "source": [
    "arr = [3,2,13,4,6,5,7,8,1,20]\n",
    "selection_sort(arr)"
   ]
  },
  {
   "cell_type": "markdown",
   "metadata": {},
   "source": [
    "<a id=\"9\"></a>\n",
    "## Counting Sort "
   ]
  },
  {
   "cell_type": "markdown",
   "metadata": {},
   "source": [
    "<a id=\"10\"></a>\n",
    "## Counting Sort with Python  "
   ]
  },
  {
   "cell_type": "code",
   "execution_count": 45,
   "metadata": {},
   "outputs": [],
   "source": [
    "def counting_sort(array,maxval):\n",
    "    \"\"\"\n",
    "    count sort\n",
    "    \"\"\"\n",
    "    n = len(array)\n",
    "    m = maxval + 1\n",
    "    count = [0] * m #  [0,0,0,0,0,0...,0]\n",
    "    \n",
    "    for a in array:\n",
    "        count[a] += 1\n",
    "    i = 0\n",
    "    for a in range(m):\n",
    "        for c in range(count[a]):\n",
    "            array[i] = a\n",
    "            i += 1\n",
    "    return array"
   ]
  },
  {
   "cell_type": "code",
   "execution_count": 46,
   "metadata": {},
   "outputs": [
    {
     "data": {
      "text/plain": [
       "[1, 1, 1, 1, 2, 2, 3, 3, 4, 5, 6, 7, 7, 7, 7]"
      ]
     },
     "execution_count": 46,
     "metadata": {},
     "output_type": "execute_result"
    }
   ],
   "source": [
    "liste = [1,2,3,4,5,6,7,7,7,7,1,1,1,2,3]\n",
    "counting_sort(liste,7)"
   ]
  },
  {
   "cell_type": "markdown",
   "metadata": {},
   "source": [
    "<a id=\"11\"></a>\n",
    "## Quick Sort \n",
    "* Böl ve fethet mantığını kullanır.\n",
    "* Pivot value listeyi ikiye böler. \n",
    "* Pivot value'dan küçük değerler listenin sol kısmını büyük değerler ise sağ kısmını oluşturur.\n",
    "* ![Time](q.jpg)"
   ]
  },
  {
   "cell_type": "markdown",
   "metadata": {},
   "source": [
    "<a id=\"12\"></a>\n",
    "## Quick Sort with Python"
   ]
  },
  {
   "cell_type": "code",
   "execution_count": 12,
   "metadata": {},
   "outputs": [],
   "source": [
    "# recursive\n",
    "def quick_sort(arr):\n",
    "    quick_sort_recursion(arr,0,len(arr)-1)\n",
    "    return arr\n",
    "\n",
    "def quick_sort_recursion(arr,first,last):\n",
    "    \n",
    "    if first < last:\n",
    "        \n",
    "        splitpoint = partition(arr,first,last)\n",
    "        \n",
    "        # left right\n",
    "        quick_sort_recursion(arr,first,splitpoint - 1)\n",
    "        quick_sort_recursion(arr,splitpoint + 1,last)\n",
    "        \n",
    "    # end point\n",
    "    \n",
    "def partition(arr,first,last):\n",
    "    \n",
    "    # pivot value = ilk eleman secelim. visu algo ile karsilasatirmak icin\n",
    "    pivotvalue = arr[first]\n",
    "    \n",
    "    left = first + 1\n",
    "    right = last\n",
    "    \n",
    "    done = False\n",
    "    \n",
    "    while not done:\n",
    "        \n",
    "        while left <= right and arr[left] <= pivotvalue:\n",
    "            left = left + 1\n",
    "        while arr[right] >= pivotvalue and right >= left:\n",
    "            right = right - 1\n",
    "            \n",
    "        if right < left:\n",
    "            done = True\n",
    "        else: \n",
    "            temp = arr[left]\n",
    "            arr[left] = arr[right]\n",
    "            arr[right] = temp\n",
    "        \n",
    "    temp = arr[first]\n",
    "    arr[first] = arr[right]\n",
    "    arr[right] = temp\n",
    "    \n",
    "    return right"
   ]
  },
  {
   "cell_type": "code",
   "execution_count": 13,
   "metadata": {},
   "outputs": [
    {
     "data": {
      "text/plain": [
       "[2, 3, 4, 4, 5, 6, 13, 734]"
      ]
     },
     "execution_count": 13,
     "metadata": {},
     "output_type": "execute_result"
    }
   ],
   "source": [
    "arr = [3,2,13,4,6,5,734,4]\n",
    "quick_sort(arr)"
   ]
  },
  {
   "cell_type": "markdown",
   "metadata": {},
   "source": [
    "<a id=\"13\"></a>\n",
    "## Heap Sort\n",
    "* Heap sort için önce listemizi tree'ye çeviriyoruz. Yani heap inşa ediyoruz.\n",
    "* Daha sonra inşa edilen heap'i max heap'e çeviriyoruz.\n",
    "* Max heap de parent node her zaman child node'dan büyük yada child node'a eşittir.\n",
    "* ilk ve son node'un yerini değiştir ve son node'u sil.\n",
    "* ![Time](heap1.jpg)\n",
    "* ![Time](heap2.jpg)\n",
    "* ![Time](heap3.jpg)\n",
    "* ![Time](heap4.jpg)"
   ]
  },
  {
   "cell_type": "markdown",
   "metadata": {},
   "source": [
    "<a id=\"55\"></a>\n",
    "## Sorting Algorithms İş Mülakatları Soru-Cevap\n",
    "* Time Complexity of Algorithms\n",
    "    * ![Time](tc.jpg)\n",
    "* https://www.toptal.com/developers/sorting-algorithms"
   ]
  },
  {
   "cell_type": "markdown",
   "metadata": {},
   "source": [
    "<a id=\"66\"></a>\n",
    "## Sorting Algorithms Python Challenge/Problem\n",
    "1. Second Great and Low\n",
    "1. ThreeSum"
   ]
  },
  {
   "cell_type": "markdown",
   "metadata": {},
   "source": [
    "### 1) Second Great and Low\n",
    "* Input: 1, 42, 42, 180\n",
    "* Output:\"42 42\"\n",
    "* \n",
    "* Input: 4, 90\n",
    "* Output:\"90 4\"\n",
    "* \n",
    "* Input: 1,2,3,4,90,80\n",
    "* Output:\"2 80\"\n"
   ]
  },
  {
   "cell_type": "code",
   "execution_count": 23,
   "metadata": {},
   "outputs": [],
   "source": [
    "def secondGreatlow(arr):\n",
    "    \n",
    "    unique = set(arr)\n",
    "    print(unique)\n",
    "    \n",
    "    sortedlist = sorted(unique)\n",
    "    print(sortedlist)\n",
    "    \n",
    "    if len(sortedlist) < 2:\n",
    "        return str(sortedlist[0] +  \" \"+sortedlist[0])\n",
    "    else:\n",
    "        return str(sortedlist[1]) +  \" \"+ str(sortedlist[len(sortedlist)-2])"
   ]
  },
  {
   "cell_type": "code",
   "execution_count": 24,
   "metadata": {},
   "outputs": [
    {
     "name": "stdout",
     "output_type": "stream",
     "text": [
      "{1, 2, 3, 4, 80, 90}\n",
      "[1, 2, 3, 4, 80, 90]\n",
      "2 80\n"
     ]
    }
   ],
   "source": [
    "print(secondGreatlow([ 1,2,3,4,90,80,80,80]))"
   ]
  },
  {
   "cell_type": "markdown",
   "metadata": {},
   "source": [
    "### 2) ThreeSum\n",
    "* Input: 10, 2, 3, 1, 5, 3, 1, 4, -4, -3, -2  => 10 = (2,3,5) (3,3,4) (5,1,4)\n",
    "* Output:\"true\"\n",
    "* \n",
    "* Input: 12, 3, 1, -5, -4, 7\n",
    "* Output:\"false\""
   ]
  },
  {
   "cell_type": "code",
   "execution_count": 73,
   "metadata": {},
   "outputs": [],
   "source": [
    "import itertools\n",
    "def threesum(arr):\n",
    "    n = arr[0]\n",
    "    del arr[0]\n",
    "    #print(arr)\n",
    "    l = range(len(arr))\n",
    "    comb = itertools.combinations(l,3)\n",
    "    for i in comb:\n",
    "       #print(i)\n",
    "        s = 0\n",
    "        for l in i:\n",
    "            s += l\n",
    "            #print(s)\n",
    "        if s == n:\n",
    "            return \"true\"\n",
    "    return \"false\""
   ]
  },
  {
   "cell_type": "code",
   "execution_count": 75,
   "metadata": {},
   "outputs": [
    {
     "data": {
      "text/plain": [
       "'false'"
      ]
     },
     "execution_count": 75,
     "metadata": {},
     "output_type": "execute_result"
    }
   ],
   "source": [
    "threesum([10, 2, 3, 1, 5, 3])"
   ]
  },
  {
   "cell_type": "markdown",
   "metadata": {},
   "source": [
    "<a id=\"99\"></a>\n",
    "## Neler Öğrendik\n",
    "* Bubble Sort\n",
    "* Bubble Sort with Python\n",
    "* Merge Sort\n",
    "* Merge Sort with Python\n",
    "* Insertion Sort\n",
    "* Insertion Sort with Python\n",
    "* Selection Sort\n",
    "* Selection Sort with Python\n",
    "* Counting Sort\n",
    "* Counting Sort with Python\n",
    "* Quick Sort\n",
    "* Quick Sort with Python\n",
    "* Heap Sort\n",
    "* Sorting Algorithms İş Mülakatları Soru-Cevap\n",
    "* Sorting Algorithms Python Challenge/Problem"
   ]
  }
 ],
 "metadata": {
  "kernelspec": {
   "display_name": "Python 3",
   "language": "python",
   "name": "python3"
  },
  "language_info": {
   "codemirror_mode": {
    "name": "ipython",
    "version": 3
   },
   "file_extension": ".py",
   "mimetype": "text/x-python",
   "name": "python",
   "nbconvert_exporter": "python",
   "pygments_lexer": "ipython3",
   "version": "3.8.8"
  }
 },
 "nbformat": 4,
 "nbformat_minor": 2
}
