{
 "cells": [
  {
   "cell_type": "markdown",
   "metadata": {},
   "source": [
    "# Dynamic Programming"
   ]
  },
  {
   "cell_type": "markdown",
   "metadata": {},
   "source": [
    "## İçerik\n",
    "* [Dynamic Programming](#1)\n",
    "* [Dynamic Programming İş Mülakatları Soru-Cevap](#55)\n",
    "* [Dynamic Programming Python Challenge/Problem](#66)\n",
    "* [Neler Öğrendik](#99)"
   ]
  },
  {
   "cell_type": "markdown",
   "metadata": {},
   "source": [
    "<a id=\"1\"></a>\n",
    "## Dynamic Programming\n",
    "* Dynamic programming büyük bir problemi küçük problemlere bölerek çözmek ve bu küçük problemlerin sonuçlarını depolayarak aynı sonuçların tekrar hesaplanmasını önler.\n",
    "* Her bir küçük problem birleşerek büyük problem için çözüm yolu oluşturur.\n",
    "* Dynamic programming'in en güzel örneği fibonachi sayılarıdır\n",
    "* ![Time](f.jpg)\n",
    "* Gördüğünüz gibi pek çok repeated operation çalışır.\n",
    "* Divide big problem to the small problem and one solution will contribute to other solution"
   ]
  },
  {
   "cell_type": "code",
   "execution_count": null,
   "metadata": {},
   "outputs": [],
   "source": [
    "               # rec(9)\n",
    "    # rec(8)      +       rec(7)\n",
    "# rec(7) + rec(6)      rec(6) + rec(5)   "
   ]
  },
  {
   "cell_type": "code",
   "execution_count": 1,
   "metadata": {},
   "outputs": [],
   "source": [
    "# fibonacci numbers\n",
    "def recur_fibo(n):\n",
    "    \"\"\"\n",
    "    recursion function for fibonacci sequence\n",
    "    \"\"\"\n",
    "    # base case\n",
    "    if n <= 1:\n",
    "        return n \n",
    "    else:\n",
    "        return (recur_fibo(n-1) + recur_fibo(n-2))\n",
    "        "
   ]
  },
  {
   "cell_type": "code",
   "execution_count": 2,
   "metadata": {},
   "outputs": [
    {
     "data": {
      "text/plain": [
       "34"
      ]
     },
     "execution_count": 2,
     "metadata": {},
     "output_type": "execute_result"
    }
   ],
   "source": [
    "recur_fibo(9)"
   ]
  },
  {
   "cell_type": "markdown",
   "metadata": {},
   "source": [
    "* Time Complexity: T(n) = T(n-1) + T(n-2) which is exponential.\n",
    "* Bu metod çok fazla repeated work yapıyor bu nedenle fibonacci number n için uygun bir yöntem değil.\n",
    "* Şimdi dynamic programming kullanalım.\n",
    "* Yani daha önceden hesaplanmış fibonacci numberları depolayalım"
   ]
  },
  {
   "cell_type": "code",
   "execution_count": 5,
   "metadata": {},
   "outputs": [],
   "source": [
    "# dynamic programming\n",
    "def dynamic_fibo(n):\n",
    "    \n",
    "    fibo_list = [0,1]\n",
    "    \n",
    "    while len(fibo_list) < n+1:\n",
    "        fibo_list.append(0)\n",
    "    # base case\n",
    "    if n <= 1:\n",
    "        return n\n",
    "    else: \n",
    "        if fibo_list[n-1] == 0:\n",
    "            fibo_list[n-1] = dynamic_fibo(n-1)\n",
    "        if fibo_list[n-2] == 0:\n",
    "            fibo_list[n-2] = dynamic_fibo(n-2)\n",
    "        \n",
    "        fibo_list[n] = fibo_list[n-2] + fibo_list[n-1]\n",
    "    return fibo_list[n]"
   ]
  },
  {
   "cell_type": "code",
   "execution_count": 11,
   "metadata": {},
   "outputs": [
    {
     "data": {
      "text/plain": [
       "21"
      ]
     },
     "execution_count": 11,
     "metadata": {},
     "output_type": "execute_result"
    }
   ],
   "source": [
    "dynamic_fibo(8)"
   ]
  },
  {
   "cell_type": "markdown",
   "metadata": {},
   "source": [
    "* Time complexity of dynamic_fibo O(n)"
   ]
  },
  {
   "cell_type": "markdown",
   "metadata": {},
   "source": [
    "<a id=\"55\"></a>\n",
    "## Dynamic Programming İş Mülakatları Soru-Cevap\n",
    "* Dynamic programming yaklaşımını ne zaman kullanırız?\n",
    "    * Eğer çözümümüz sub promlemlere bölünebiliyorsa\n",
    "* Memoization nedir?\n",
    "    * Bir değeri her seferinde hesaplamaktansa, bir kere hesaplayıp bir yerde depolayıp daha sonra başka yerde kullanılmaya verilen addır."
   ]
  },
  {
   "cell_type": "markdown",
   "metadata": {},
   "source": [
    "<a id=\"66\"></a>\n",
    "## Dynamic Programming Python Challenge/Problem\n",
    "1) nth Catalan Number"
   ]
  },
  {
   "cell_type": "markdown",
   "metadata": {},
   "source": [
    "### nth Catalan Number\n",
    "* ![Time](cat.jpg)"
   ]
  },
  {
   "cell_type": "code",
   "execution_count": 12,
   "metadata": {},
   "outputs": [],
   "source": [
    "# recursive\n",
    "def recursive_catalan(n):\n",
    "    # base case\n",
    "    if n <= 1:\n",
    "        return 1\n",
    "\n",
    "    res = 0\n",
    "    \n",
    "    for i in range(n):\n",
    "        res += recursive_catalan(i)  * recursive_catalan( n - i - 1)\n",
    "    \n",
    "    return res"
   ]
  },
  {
   "cell_type": "code",
   "execution_count": 14,
   "metadata": {},
   "outputs": [
    {
     "name": "stdout",
     "output_type": "stream",
     "text": [
      "1\n",
      "1\n",
      "2\n",
      "5\n",
      "14\n",
      "42\n",
      "132\n",
      "429\n",
      "1430\n",
      "4862\n"
     ]
    }
   ],
   "source": [
    "for i in range(10):\n",
    "    print(recursive_catalan(i))"
   ]
  },
  {
   "cell_type": "code",
   "execution_count": 20,
   "metadata": {},
   "outputs": [],
   "source": [
    "# catalan with dynamic\n",
    "def dynamic_catalan(n):\n",
    "    # base case\n",
    "    if n <= 1:\n",
    "        return 1\n",
    "    # depola\n",
    "    catalan = [0 for i in range(n+1)]\n",
    "    \n",
    "    # ilk 2 degeri initialize et\n",
    "    catalan[0], catalan[1] = 1,1\n",
    "    \n",
    "    # listeyi doldur\n",
    "    for i in range(2,n+1):\n",
    "        catalan[i] = 0\n",
    "        for j in range(i):\n",
    "            catalan[i] = catalan[i] + catalan[j]*catalan[i-j-1]\n",
    "    return catalan[n]"
   ]
  },
  {
   "cell_type": "code",
   "execution_count": 21,
   "metadata": {},
   "outputs": [
    {
     "name": "stdout",
     "output_type": "stream",
     "text": [
      "1\n",
      "1\n",
      "2\n",
      "5\n",
      "14\n",
      "42\n",
      "132\n",
      "429\n",
      "1430\n",
      "4862\n"
     ]
    }
   ],
   "source": [
    "for i in range(10):\n",
    "    print(dynamic_catalan(i))"
   ]
  },
  {
   "cell_type": "markdown",
   "metadata": {},
   "source": [
    "<a id=\"99\"></a>\n",
    "## Neler Öğrendik\n",
    "* Dynamic Programming\n",
    "* Dynamic Programming İş Mülakatları Soru-Cevap\n",
    "* Dynamic Programming Python Challenge/Problem"
   ]
  }
 ],
 "metadata": {
  "kernelspec": {
   "display_name": "Python 3",
   "language": "python",
   "name": "python3"
  },
  "language_info": {
   "codemirror_mode": {
    "name": "ipython",
    "version": 3
   },
   "file_extension": ".py",
   "mimetype": "text/x-python",
   "name": "python",
   "nbconvert_exporter": "python",
   "pygments_lexer": "ipython3",
   "version": "3.6.5"
  }
 },
 "nbformat": 4,
 "nbformat_minor": 2
}
