{
 "cells": [
  {
   "cell_type": "markdown",
   "metadata": {},
   "source": [
    "**Bu bölüme başlamadan önce yapılması gerekenler:**\n",
    "<br>*https://www.udemy.com/python-sfrdan-uzmanlga-programlama-1/*"
   ]
  },
  {
   "cell_type": "markdown",
   "metadata": {},
   "source": [
    "# Python Challenges\n",
    "* **Algoritma** yazacağız\n",
    "* Python ile ilgili **farklı metotlar** öğreneceğiz\n",
    "* **Beyin fırtınası** yapacağız\n",
    "* Kod yazma **skillerimizi** geliştireceğiz\n",
    "* **İş Başvurularında** sorulan python algoritmalarını öğreneceğiz\n",
    "* Kod yazmaya karşı **özgüvenimiz** artacak"
   ]
  },
  {
   "cell_type": "markdown",
   "metadata": {},
   "source": [
    "## İçerik:\n",
    "* [KOLAY](#1)\n",
    "    * [Faktöriyel](#2)\n",
    "    * [Kelimenin Tersi](#3)\n",
    "    * [Saat Çevirme](#4)\n",
    "    * [Baş Harf Büyütme](#5)\n",
    "* [ORTA](#6)\n",
    "    * [Kelime Karıştırmak](#7)\n",
    "    * [Sıklık Bulma](#8)\n",
    "    * [Kayıp Basamak](#9)\n",
    "* [ZOR](#10)\n",
    "    * [Array Rotasyonu](#11)\n",
    "    * [Array Çiftleri](#12)\n",
    "* [Neler Öğrendik](#1100)"
   ]
  },
  {
   "cell_type": "markdown",
   "metadata": {},
   "source": [
    "<a id=\"1\"></a> <br>\n",
    "## KOLAY"
   ]
  },
  {
   "cell_type": "markdown",
   "metadata": {},
   "source": [
    "<a id=\"2\"></a> <br>\n",
    "### 1) Faktöriyel\n",
    "* Örnek\n",
    "    * Faktöriyel => 4! = 4.3.2.1 = 24\n",
    "    * input = 4\n",
    "    * output = 24"
   ]
  },
  {
   "cell_type": "code",
   "execution_count": 3,
   "metadata": {},
   "outputs": [],
   "source": [
    "def factorial(num):\n",
    "    \n",
    "    f = 1\n",
    "    for i in range(1,num+1):\n",
    "        f = f*i\n",
    "        \n",
    "    return f\n",
    "    "
   ]
  },
  {
   "cell_type": "code",
   "execution_count": 8,
   "metadata": {},
   "outputs": [
    {
     "name": "stdout",
     "output_type": "stream",
     "text": [
      "5! =  120\n",
      "4! =  24\n",
      "1! =  1\n",
      "0! =  1\n",
      "15! =  1307674368000\n"
     ]
    }
   ],
   "source": [
    "print(\"5! = \",factorial(5))\n",
    "print(\"4! = \",factorial(4))\n",
    "print(\"1! = \",factorial(1))\n",
    "print(\"0! = \",factorial(0))\n",
    "print(\"15! = \",factorial(15))"
   ]
  },
  {
   "cell_type": "markdown",
   "metadata": {},
   "source": [
    "<a id=\"3\"></a> <br>\n",
    "### 2) Kelimenin Tersi\n",
    "* Örnek\n",
    "    * input = \"istanbul\"\n",
    "    * output = \"lubnatsi\""
   ]
  },
  {
   "cell_type": "code",
   "execution_count": 28,
   "metadata": {},
   "outputs": [],
   "source": [
    "def reverse(str):\n",
    "    \n",
    "    # str[start:stop:step]\n",
    "    return str[::-1]\n",
    "    \n",
    "    "
   ]
  },
  {
   "cell_type": "code",
   "execution_count": 31,
   "metadata": {},
   "outputs": [
    {
     "name": "stdout",
     "output_type": "stream",
     "text": [
      "istanbul:  lubnatsi\n",
      "ankara:  arakna\n"
     ]
    }
   ],
   "source": [
    "print(\"istanbul: \",reverse(\"istanbul\"))\n",
    "print(\"ankara: \",reverse(\"ankara\"))"
   ]
  },
  {
   "cell_type": "markdown",
   "metadata": {},
   "source": [
    "<a id=\"4\"></a> <br>\n",
    "### 3) Saat Çevirme\n",
    "* Örnek\n",
    "    * input = 128\n",
    "    * output = \"2:8\""
   ]
  },
  {
   "cell_type": "code",
   "execution_count": 46,
   "metadata": {},
   "outputs": [],
   "source": [
    "import math\n",
    "def convertTime(num):\n",
    "    \n",
    "    hour = int(math.floor(num/60))\n",
    "    minute = num % 60\n",
    "    return str(hour)+\":\"+str(minute)"
   ]
  },
  {
   "cell_type": "code",
   "execution_count": 50,
   "metadata": {},
   "outputs": [
    {
     "name": "stdout",
     "output_type": "stream",
     "text": [
      "128 =>  2:8\n",
      "59 =>  0:59\n",
      "361 =>  6:1\n"
     ]
    }
   ],
   "source": [
    "print(\"128 => \",convertTime(128))\n",
    "print(\"59 => \",convertTime(59))\n",
    "print(\"361 => \",convertTime(361))"
   ]
  },
  {
   "cell_type": "markdown",
   "metadata": {},
   "source": [
    "<a id=\"5\"></a> <br>\n",
    "### 4) Baş Harf Büyütme\n",
    "* Örnek\n",
    "    * input = \"kod yazmak cok zevkli\"\n",
    "    * output = \"Kod Yazmak Cok Zevkli\""
   ]
  },
  {
   "cell_type": "code",
   "execution_count": 69,
   "metadata": {},
   "outputs": [],
   "source": [
    "def basHarfiBuyukYap(str):\n",
    "    \n",
    "    # split\n",
    "    kelimeler = str.split()\n",
    "    \n",
    "    # bu kelimelerin bas harfini buyut\n",
    "    for i in range(0,len(kelimeler)):\n",
    "        kelimeler[i] = kelimeler[i][0].upper() + kelimeler[i][1:]\n",
    "\n",
    "    # birlestir ve \n",
    "    return \" \".join(kelimeler)"
   ]
  },
  {
   "cell_type": "code",
   "execution_count": 72,
   "metadata": {},
   "outputs": [
    {
     "name": "stdout",
     "output_type": "stream",
     "text": [
      "Kod Yazmak Cok Zevkli\n",
      "ikinci secenek:  Kod Yazmak Cok Zevkli\n"
     ]
    }
   ],
   "source": [
    "print(basHarfiBuyukYap(\"kod yazmak cok zevkli\"))\n",
    "\n",
    "deneme_str = \"kod yazmak cok zevkli\"\n",
    "print(\"ikinci secenek: \",deneme_str.title())"
   ]
  },
  {
   "cell_type": "markdown",
   "metadata": {},
   "source": [
    "<a id=\"6\"></a> <br>\n",
    "## ORTA"
   ]
  },
  {
   "cell_type": "markdown",
   "metadata": {},
   "source": [
    "<a id=\"7\"></a> <br>\n",
    "### 5) Kelime Karıştırmak\n",
    "* Örnek\n",
    "    * input = \"ankara\" == \"kaarna\"\n",
    "    * output = true\n",
    "    * input = \"ankara\" == \"zarks\"\n",
    "    * output = false"
   ]
  },
  {
   "cell_type": "code",
   "execution_count": 77,
   "metadata": {},
   "outputs": [],
   "source": [
    "def kelimeKaristirma(str1,str2):\n",
    "    \n",
    "    # str2 de ki harflere esrisim saglamam lazim (for dongusu)\n",
    "    for i in str2:\n",
    "        \n",
    "        # check str1'in icinde harfler var mı\n",
    "        if i not in str1:\n",
    "            return False\n",
    "        \n",
    "    # return\n",
    "    return True"
   ]
  },
  {
   "cell_type": "code",
   "execution_count": 80,
   "metadata": {},
   "outputs": [
    {
     "name": "stdout",
     "output_type": "stream",
     "text": [
      "True\n",
      "False\n"
     ]
    }
   ],
   "source": [
    "print(kelimeKaristirma(\"ankara\",\"kaarna\"))\n",
    "print(kelimeKaristirma(\"ankara\",\"zarks\"))"
   ]
  },
  {
   "cell_type": "markdown",
   "metadata": {},
   "source": [
    "<a id=\"8\"></a> <br>\n",
    "### 6) Sıklık Bulma\n",
    "* Örnek\n",
    "    * input = \"kkwcccddee\"\n",
    "    * Output = \"2kk1w3ccc2dd2ee\""
   ]
  },
  {
   "cell_type": "code",
   "execution_count": 83,
   "metadata": {},
   "outputs": [],
   "source": [
    "def siklikBulma(string):\n",
    "    \n",
    "    i = 0\n",
    "    final_str = \"\"\n",
    "    # stringin harflerine eris\n",
    "    while i < len(string):\n",
    "        \n",
    "        c = string[i]\n",
    "        \n",
    "        j = i + 1\n",
    "        \n",
    "        compressed = [1,c]\n",
    "    \n",
    "        while j < len(string):\n",
    "            if string[j] == c:\n",
    "                compressed[0] += 1\n",
    "            else:\n",
    "                break\n",
    "            j += 1\n",
    "        # birlestir bir string icinde\n",
    "        # [2,k] [3,c] \n",
    "        final_str += \"\".join(map(str,compressed))\n",
    "        i = j\n",
    "    \n",
    "    # return\n",
    "    return final_str"
   ]
  },
  {
   "cell_type": "code",
   "execution_count": 84,
   "metadata": {},
   "outputs": [
    {
     "data": {
      "text/plain": [
       "'2k1w3c2d2e'"
      ]
     },
     "execution_count": 84,
     "metadata": {},
     "output_type": "execute_result"
    }
   ],
   "source": [
    "siklikBulma(\"kkwcccddee\")"
   ]
  },
  {
   "cell_type": "markdown",
   "metadata": {},
   "source": [
    "<a id=\"9\"></a> <br>\n",
    "### 7) Kayıp Basamak\n",
    "* Örnek\n",
    "    * input = \"10 - x = 4\"\n",
    "    * Output = \"6\"\n",
    "    * input = \"1x * 11 = 121\"\n",
    "    * Output = \"1\"\n",
    "    * input = \"1x0 / 3 = 50\"\n",
    "    * Output = \"5\""
   ]
  },
  {
   "cell_type": "code",
   "execution_count": 8,
   "metadata": {},
   "outputs": [],
   "source": [
    "def kayipBas(string):\n",
    "    \n",
    "    # x bul replace et ne ile? 0-9\n",
    "    # bul =\n",
    "    # ='den önceki kısım ve sonraki kısmı karşılaştır eval() metodu kullan\n",
    "    # return\n",
    "    \n",
    "    for i in range(10): # 0,1,2,3...,9\n",
    "        c = string.replace(\"x\",str(i))\n",
    "        x = string.index(\"=\")\n",
    "        if eval(c[:x]) == eval(c[x+1:]): # eval(\"1x0 / 3\") == eval(\"50\")\n",
    "            return str(i)"
   ]
  },
  {
   "cell_type": "code",
   "execution_count": 9,
   "metadata": {},
   "outputs": [
    {
     "name": "stdout",
     "output_type": "stream",
     "text": [
      "6\n",
      "1\n",
      "5\n"
     ]
    }
   ],
   "source": [
    "print(kayipBas(\"10 - x = 4\"))\n",
    "print(kayipBas(\"1x * 11 = 121\"))\n",
    "print(kayipBas(\"1x0 / 3 = 50\"))"
   ]
  },
  {
   "cell_type": "markdown",
   "metadata": {},
   "source": [
    "<a id=\"10\"></a> <br>\n",
    "## ZOR"
   ]
  },
  {
   "cell_type": "markdown",
   "metadata": {},
   "source": [
    "<a id=\"11\"></a> <br>\n",
    "### 8) Array Rotasyonu\n",
    "* Örnek\n",
    "    * input = [2,3,4,5]\n",
    "    * Output = 4523\n",
    "    * input = [4,5,6,7,8,9,10,11,12,13]\n",
    "    * output = 89101112134567\n",
    "    "
   ]
  },
  {
   "cell_type": "code",
   "execution_count": 10,
   "metadata": {},
   "outputs": [],
   "source": [
    "def rotateArray(array):\n",
    "    \n",
    "    # arrayin ilk elemanını bul. bu değer bizim eski başlangıç(input) değerimiz \n",
    "    # output arrayin ilk elemanını bul\n",
    "    # bizim arrayimizin ilk elemanı eski başlangıç indexi kabul et\n",
    "    # while dongusu ve counter ata counter ++;\n",
    "    # return\n",
    "    \n",
    "    eski_baslangic = array[0] # input index sıfırdaki değer # index\n",
    "    \n",
    "    yeni_baslangic = [str(array[eski_baslangic])]\n",
    "    \n",
    "    count = eski_baslangic + 1\n",
    "    \n",
    "    length = len(array)\n",
    "    \n",
    "    while count%length != eski_baslangic:\n",
    "        yeni_baslangic.append(str(array[count%length]))\n",
    "        count += 1\n",
    "            \n",
    "    return \"\".join(yeni_baslangic)\n",
    "    "
   ]
  },
  {
   "cell_type": "code",
   "execution_count": 12,
   "metadata": {},
   "outputs": [
    {
     "name": "stdout",
     "output_type": "stream",
     "text": [
      "4523\n",
      "89101112134567\n"
     ]
    }
   ],
   "source": [
    "print(rotateArray([2,3,4,5]))\n",
    "print(rotateArray([4,5,6,7,8,9,10,11,12,13]))"
   ]
  },
  {
   "cell_type": "markdown",
   "metadata": {},
   "source": [
    "<a id=\"12\"></a> <br>\n",
    "### 9) Array Çiftleri\n",
    "* Örnek\n",
    "    * input = [5,6,6,5,3,3]\n",
    "    * Output = \"3,3\"\n",
    "    * input = [7,8,8,7,9,1,1,9]\n",
    "    * Output = \"ok\"\n",
    "  "
   ]
  },
  {
   "cell_type": "code",
   "execution_count": 13,
   "metadata": {},
   "outputs": [],
   "source": [
    "def arrayCouple(array):\n",
    "    # stringe çevir \"5 6\" \"6 5\"\n",
    "    new = \"\"\n",
    "    \n",
    "    for k in range(len(array)):\n",
    "        new += str(array[k]) + \" \" # \"5 6\"\n",
    "        \n",
    "        if k%2 == 1:\n",
    "            new += \",\" # 5 6 , 6 5 , 3 3\n",
    "    new = new.split(\" ,\") # [\"5 6\", \"6 5\", \"3 3\"]\n",
    "    \n",
    "    # reverse pair olmayanları depola\n",
    "    depo = []\n",
    "    for i in new:\n",
    "        if i[::-1] not in new: # içinde mi değil mi kontrol et\n",
    "            for l in i.split(): # içinde değilse depo listesine ekle\n",
    "                depo.append(l)\n",
    "        elif i == i[::-1] and new.count(i)<2:\n",
    "            for l in i.split():\n",
    "                depo.append(l)\n",
    "                \n",
    "    # eğer depo boş ise \"ok\" return et\n",
    "    # eğer depo dolu ise return depo\n",
    "    if depo == []:\n",
    "        return \"ok\"\n",
    "    \n",
    "    return \",\".join(depo)"
   ]
  },
  {
   "cell_type": "code",
   "execution_count": 18,
   "metadata": {},
   "outputs": [
    {
     "name": "stdout",
     "output_type": "stream",
     "text": [
      "3,3\n",
      "ok\n"
     ]
    }
   ],
   "source": [
    "print(arrayCouple([5,6,6,5,3,3]))\n",
    "print(arrayCouple([7,8,8,7,9,1,1,9]))"
   ]
  },
  {
   "cell_type": "markdown",
   "metadata": {},
   "source": [
    "<a id=\"1100\"></a> <br>\n",
    "## Neler Öğrendik\n",
    "* KOLAY\n",
    "   * Faktöriyel\n",
    "   * Kelimenin Tersi\n",
    "   * Saat Çevirme\n",
    "   * Baş Harf Büyütme\n",
    "* ORTA\n",
    "   * Kelime Karıştırmak\n",
    "   * Sıklık Bulma\n",
    "   * Kayıp Basamak\n",
    "* ZOR\n",
    "   * Array Rotasyonu\n",
    "   * Array Çiftleri\n",
    "   \n",
    "<br>TAVSİYE: \n",
    "   * Algoritmaları tek tek çalışın \n",
    "   * Başka algoritmalar kendiniz çözmeye çalışın\n",
    "   * https://www.hackerrank.com/"
   ]
  }
 ],
 "metadata": {
  "kernelspec": {
   "display_name": "Python 3",
   "language": "python",
   "name": "python3"
  },
  "language_info": {
   "codemirror_mode": {
    "name": "ipython",
    "version": 3
   },
   "file_extension": ".py",
   "mimetype": "text/x-python",
   "name": "python",
   "nbconvert_exporter": "python",
   "pygments_lexer": "ipython3",
   "version": "3.8.8"
  }
 },
 "nbformat": 4,
 "nbformat_minor": 2
}
