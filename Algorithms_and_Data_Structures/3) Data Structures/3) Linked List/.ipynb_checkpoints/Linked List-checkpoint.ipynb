{
 "cells": [
  {
   "cell_type": "markdown",
   "metadata": {},
   "source": [
    "# Linked List"
   ]
  },
  {
   "cell_type": "markdown",
   "metadata": {},
   "source": [
    "## İçerik\n",
    "* [Linked List](#1)\n",
    "* [Linked List with Python](#2)\n",
    "* [Doubly Linked List](#3)\n",
    "* [Doubly Linked List with Python](#4)\n",
    "* [Linked List İş Mülakatları Soru-Cevap](#5)\n",
    "* [Linked List Python Challenge/Problem](#6)\n",
    "* [Neler Öğrendik](#7)"
   ]
  },
  {
   "cell_type": "markdown",
   "metadata": {},
   "source": [
    "<a id=\"1\"></a>\n",
    "## Linked List\n",
    "* Singly Linked List linked listing en basit formudur.\n",
    "* Singly linked list node'ların toplanıldığı bir linear yapıdır.\n",
    "* Her bir node hem veri depolar hem de diğer bir node'a ulaşmak için pointer'a(adres) sahiptir.\n",
    "* Head: link list'te ki ilk node\n",
    "* Tail: link list'te ki son node\n",
    "* Link list içerisinde bir node'dan bir node'a dolaşmaya *traversing* denir.\n",
    "* Link listin önemli özelliklerinden bir tanesi predetermined fixed bir size'a sahip olmaması. Yani linked list boyutu önceden belirlenmiyor.\n",
    "* Linked list'in başına yeni bir eleman eklemek istersek\n",
    "    1. Yeni node yarat\n",
    "    2. Node içerisinde ki veriyi belirle\n",
    "    3. Node'un adresini(pointer) önceki head olarak belirle\n",
    "    4. Yaratılan yeni node'u head olarak belirle\n",
    "    * ![title](bastan_ekleme.jpg)\n",
    "* Linked list'in sonuna yeni bir eleman eklemek istersek\n",
    "    1. Yeni node yarat\n",
    "    2. Next referansı None olarak ayarla\n",
    "    3. Tail'ın next reference'ını bu yeni node olarak ayarla\n",
    "    4. Yeni eklenen node'u tail olarak ayarla\n",
    "    * ![title](sondan_ekleme.jpg)\n",
    "* Linked list'te baştan eleman çıkarmak istersek\n",
    "    1. Çıkartacağımız node'dan sonraki node'u head reference yaparız. Yani head pointing çıkartılan node'un adresini\n",
    "    * ![title](bastan_silme.jpg)\n",
    "* Linked list'te sondan eleman çıkarmak istersek\n",
    "    * Singly Linked list'in son elemanını çıkarmak için listemizi doubly linked list yapmamız lazım!"
   ]
  },
  {
   "cell_type": "markdown",
   "metadata": {},
   "source": [
    "<a id=\"2\"></a>\n",
    "## Linked List with Python\n",
    "* Singly link list\n",
    "* Linked List?\n",
    "    * Bizim sıralı bir listemiz vardı. \n",
    "    * Bu liste node'lardan oluşuyordu. \n",
    "    * Her bir node veri ve diğer node için pointer depoluyordu."
   ]
  },
  {
   "cell_type": "code",
   "execution_count": 3,
   "metadata": {},
   "outputs": [],
   "source": [
    "class Node(object):\n",
    "    \n",
    "    def __init__(self, value):\n",
    "        \"\"\"\n",
    "        Create Node: Node has value and pointer\n",
    "        \"\"\"\n",
    "        self.value = value\n",
    "        self.nextnode = None\n",
    "        \n",
    "    def setNextNode(self, node):\n",
    "        \"\"\"\n",
    "        It sets the next node\n",
    "        \"\"\"\n",
    "        self.nextnode = node\n",
    "        \n",
    "    def getNextNode(self):\n",
    "        \"\"\"\n",
    "        It returns the next node\n",
    "        \"\"\"\n",
    "        return self.nextnode\n",
    "    \n",
    "    def getNodeValue(self):\n",
    "        \"\"\"\n",
    "        It returns the node's value\n",
    "        \"\"\"\n",
    "        return self.value"
   ]
  },
  {
   "cell_type": "code",
   "execution_count": 4,
   "metadata": {},
   "outputs": [],
   "source": [
    "# node sehir. node value sehir plakasi\n",
    "ankara = Node(\"06\")\n",
    "bolu = Node(\"14\")\n",
    "istanbul = Node(\"34\")"
   ]
  },
  {
   "cell_type": "code",
   "execution_count": 5,
   "metadata": {},
   "outputs": [
    {
     "name": "stdout",
     "output_type": "stream",
     "text": [
      "14\n"
     ]
    }
   ],
   "source": [
    "ankara.setNextNode(bolu)\n",
    "print(ankara.getNextNode().getNodeValue())"
   ]
  },
  {
   "cell_type": "code",
   "execution_count": 6,
   "metadata": {},
   "outputs": [
    {
     "name": "stdout",
     "output_type": "stream",
     "text": [
      "34\n"
     ]
    }
   ],
   "source": [
    "bolu.setNextNode(istanbul)\n",
    "print(bolu.getNextNode().getNodeValue())"
   ]
  },
  {
   "cell_type": "code",
   "execution_count": 11,
   "metadata": {},
   "outputs": [
    {
     "name": "stdout",
     "output_type": "stream",
     "text": [
      "34\n"
     ]
    }
   ],
   "source": [
    "# ankara => bolu => istanbul\n",
    "print(ankara.getNextNode().getNextNode().getNodeValue())"
   ]
  },
  {
   "cell_type": "markdown",
   "metadata": {},
   "source": [
    "<a id=\"3\"></a>\n",
    "## Doubly Linked List\n",
    "* Doubly linked list'de her bir node kendisinden önceki ve sonraki node'un pointer'ını(adresini) tutar.\n",
    "* Bir önceki node reference'ı için *prev* keyword'ü kullanılır.\n",
    "* Listenini başında ve sonunda özel node'lar vardır.\n",
    "    * Header node: listenin başında bulunan sentinel(guard) diye bilinen node'dur.\n",
    "    * Trailer node: listenin sonunda bulunan sentinel(guard) diye bilinen node'dur.\n",
    "* Linked list'e yeni bir eleman eklemek yada çıkarmak istersek\n",
    "![Title](doubly_linked_list_ekle.jpg)"
   ]
  },
  {
   "cell_type": "markdown",
   "metadata": {},
   "source": [
    "<a id=\"4\"></a>\n",
    "## Doubly Linked List with Python"
   ]
  },
  {
   "cell_type": "code",
   "execution_count": 1,
   "metadata": {},
   "outputs": [],
   "source": [
    "class doublyLinkedListNode(object):\n",
    "    \n",
    "    def __init__(self, value):\n",
    "        \"\"\"\n",
    "        Create Node: Node has value, next pointer and prev pointer\n",
    "        \"\"\"\n",
    "        self.value = value\n",
    "        self.nextnode = None\n",
    "        self.prevnode = None\n",
    "        \n",
    "    def setNextNode(self, node):\n",
    "        \"\"\"\n",
    "        It sets the next node\n",
    "        \"\"\"\n",
    "        self.nextnode = node\n",
    "        \n",
    "    def setPrevNode(self, node):\n",
    "        \"\"\"\n",
    "        It sets the prev node\n",
    "        \"\"\"\n",
    "        self.prevnode = node\n",
    "        \n",
    "    def getNextNode(self):\n",
    "        \"\"\"\n",
    "        It returns the next node\n",
    "        \"\"\"\n",
    "        return self.nextnode\n",
    "    \n",
    "    def getPrevNode(self):\n",
    "        \"\"\"\n",
    "        It returns the prev node\n",
    "        \"\"\"\n",
    "        return self.prevnode\n",
    "    \n",
    "    def getNodeValue(self):\n",
    "        \"\"\"\n",
    "        It returns the node's value\n",
    "        \"\"\"\n",
    "        return self.value"
   ]
  },
  {
   "cell_type": "code",
   "execution_count": 2,
   "metadata": {},
   "outputs": [],
   "source": [
    "# node isimleri sehir, node depolanan verisi ise sehir plakari\n",
    "# ankara bolu ve istanbul\n",
    "ankara = doublyLinkedListNode(\"06\")\n",
    "bolu = doublyLinkedListNode(\"14\")\n",
    "istanbul = doublyLinkedListNode(\"34\")"
   ]
  },
  {
   "cell_type": "code",
   "execution_count": 3,
   "metadata": {},
   "outputs": [
    {
     "name": "stdout",
     "output_type": "stream",
     "text": [
      "06\n",
      "14\n",
      "None\n",
      "14\n"
     ]
    }
   ],
   "source": [
    "# ankara => bolu\n",
    "ankara.setNextNode(bolu)\n",
    "# bolu => ankara\n",
    "bolu.setPrevNode(ankara)\n",
    "# ankara <=> bolu\n",
    "print(bolu.getPrevNode().getNodeValue())\n",
    "print(ankara.getNextNode().getNodeValue())\n",
    "\n",
    "# bolu => istanbul\n",
    "bolu.setNextNode(istanbul)\n",
    "print(istanbul.getPrevNode())\n",
    "# istanbul => bolu\n",
    "istanbul.setPrevNode(bolu)\n",
    "print(istanbul.getPrevNode().getNodeValue())"
   ]
  },
  {
   "cell_type": "code",
   "execution_count": 4,
   "metadata": {},
   "outputs": [
    {
     "name": "stdout",
     "output_type": "stream",
     "text": [
      "06\n"
     ]
    }
   ],
   "source": [
    "# istanbul => bolu => ankara\n",
    "print(istanbul.getPrevNode().getPrevNode().getNodeValue())"
   ]
  },
  {
   "cell_type": "markdown",
   "metadata": {},
   "source": [
    "<a id=\"5\"></a>\n",
    "## Linked List İş Mülakatları Soru-Cevap \n",
    "* Özetle Linked list nedir?\n",
    "    * Linked List(Bağlı liste) her node'un bir değerinin yanında bir de referans(pointer) içerdiği veri yapısıdır.\n",
    "* Linked list avantajları ve dezavantajları:\n",
    "    * Avantajlar:\n",
    "        * Dinamik Olması\n",
    "    * Dezavantajlar:\n",
    "        * Fazladan adres bilgisi tutulur bu da fazla alan kullanımına neden olur\n",
    "        * Herhangi bir veriye erişmek array'de ki gibi kolay değildir ve maliyetlidir O(n).\n",
    "* Linked List Algoritma Complexity yani Big-O nedir?\n",
    "    * Eleman eklemek O(1) yani constant big o yani hızlı.\n",
    "    * ![Time](big_o_linked_list.jpg)\n",
    "* Singly linked list ile doubly linked list arasında ki farklar nelerdir?\n",
    "    * Singly linked list de her bir node bir sonraki node için bir tane pointer depolar\n",
    "    * Doubly linked list de ise node bir önceki ve sonraki node'lar için 2 tane pointer depolar\n",
    "    * Doubly linked list de geriye dönüş yapılabilir ama singly linked list de geriye dönüş yapılamaz. (No circular)\n",
    "* Link List'de traversal (traverse etmek) ne demektir?\n",
    "    * Liste içerisinde her bir node'da dolaşmak (navigating)\n",
    "    * Mesela algoritma aranan değeri bulmak için linked list içinde traverse eder. "
   ]
  },
  {
   "cell_type": "markdown",
   "metadata": {},
   "source": [
    "<a id=\"6\"></a>\n",
    "## Linked List Python Challenge/Problem\n",
    "1. Linked List node eklemek:\n",
    "    1. Linked List başından node eklemek\n",
    "    2. Verilen node'dan sonra node eklemek\n",
    "    3. Linked List sonundan node eklemek\n",
    "2. Linked List node silmek"
   ]
  },
  {
   "cell_type": "markdown",
   "metadata": {},
   "source": [
    "### 1) Linked List Node eklemek"
   ]
  },
  {
   "cell_type": "code",
   "execution_count": 1,
   "metadata": {},
   "outputs": [],
   "source": [
    "# node class\n",
    "class Node(object):\n",
    "    \n",
    "    def __init__(self, data):\n",
    "        \"\"\"\n",
    "        Node initialize\n",
    "        \"\"\"\n",
    "        self.data = data\n",
    "        self.next = None"
   ]
  },
  {
   "cell_type": "code",
   "execution_count": 2,
   "metadata": {},
   "outputs": [],
   "source": [
    "# linked list class\n",
    "class LinkedList(object):\n",
    "    \n",
    "    def __init__(self):\n",
    "        \"\"\"\n",
    "        head initializer\n",
    "        \"\"\"\n",
    "        self.head = None\n",
    "        \n",
    "    def push(self,new_data):\n",
    "        \"\"\"\n",
    "        It adds a node to the begining of the linked list\n",
    "        \"\"\"\n",
    "        # node yarat ve içerisindeki veriyi belirle\n",
    "        new_node = Node(new_data)\n",
    "        \n",
    "        # yeni node kendisinden sonra gelen node'u işaret etsin\n",
    "        new_node.next = self.head\n",
    "        \n",
    "        # head yeni node'u işaret etsin\n",
    "        self.head = new_node\n",
    "        \n",
    "    def insertAfter(self,prev_node,new_data):\n",
    "        \"\"\"\n",
    "        Add a new node after selected(prev_node)\n",
    "        \"\"\"\n",
    "        \n",
    "        # check if prev_node exists\n",
    "        if prev_node is None:\n",
    "            print(\"boyle bir node yok\")\n",
    "            return\n",
    "        \n",
    "        # create new node and define a data\n",
    "        new_node = Node(new_data)\n",
    "        \n",
    "        # define the new_node's next as prev_node's next\n",
    "        new_node.next = prev_node.next\n",
    "        \n",
    "        # define the prev_node's next as new_node\n",
    "        prev_node.next = new_node\n",
    "        \n",
    "    def append(self,new_data):\n",
    "        \"\"\"\n",
    "        It adds a node to the end of the node\n",
    "        \"\"\"\n",
    "        # yeni node yarat daha sonra icerisine new_data verisini depola\n",
    "        new_node = Node(new_data)\n",
    "        \n",
    "        # eger linked list bos ise yeni eklenen node head olsun\n",
    "        if self.head is None:\n",
    "            self.head = new_node\n",
    "            return\n",
    "        \n",
    "        # linked list'in head'inden basla sonuna kadar git\n",
    "        last = self.head\n",
    "        while last.next:\n",
    "            last = last.next\n",
    "            \n",
    "        # last.next None. onun yerine new_node ekle\n",
    "        last.next = new_node\n",
    "        \n",
    "    def printLinkedList(self):\n",
    "        \"\"\"\n",
    "        It prints the linked list\n",
    "        \"\"\"\n",
    "        temp = self.head\n",
    "        print(\"Linked list: \")\n",
    "        while temp:\n",
    "            print(temp.data)\n",
    "            temp = temp.next"
   ]
  },
  {
   "cell_type": "code",
   "execution_count": 6,
   "metadata": {},
   "outputs": [
    {
     "name": "stdout",
     "output_type": "stream",
     "text": [
      "Linked list: \n",
      "head\n",
      "25\n",
      "15\n",
      "tail\n"
     ]
    }
   ],
   "source": [
    "linked_list = LinkedList()\n",
    "linked_list.push(\"tail\")\n",
    "linked_list.push(15)\n",
    "linked_list.push(25)\n",
    "linked_list.push(\"head\")\n",
    "linked_list.printLinkedList()"
   ]
  },
  {
   "cell_type": "code",
   "execution_count": 7,
   "metadata": {},
   "outputs": [
    {
     "name": "stdout",
     "output_type": "stream",
     "text": [
      "Linked list: \n",
      "head\n",
      "100\n",
      "25\n",
      "15\n",
      "tail\n"
     ]
    }
   ],
   "source": [
    "linked_list.insertAfter(linked_list.head,100)\n",
    "linked_list.printLinkedList()"
   ]
  },
  {
   "cell_type": "code",
   "execution_count": 8,
   "metadata": {},
   "outputs": [
    {
     "name": "stdout",
     "output_type": "stream",
     "text": [
      "Linked list: \n",
      "head\n",
      "100\n",
      "25\n",
      "insert\n",
      "15\n",
      "tail\n"
     ]
    }
   ],
   "source": [
    "linked_list.insertAfter(linked_list.head.next.next,\"insert\")\n",
    "linked_list.printLinkedList()"
   ]
  },
  {
   "cell_type": "code",
   "execution_count": 9,
   "metadata": {},
   "outputs": [
    {
     "name": "stdout",
     "output_type": "stream",
     "text": [
      "Linked list: \n",
      "head\n",
      "100\n",
      "25\n",
      "insert\n",
      "15\n",
      "tail\n",
      "sona eklenen eleman\n",
      "en sona node ekle\n"
     ]
    }
   ],
   "source": [
    "linked_list.append(\"sona eklenen eleman\")\n",
    "linked_list.append(\"en sona node ekle\")\n",
    "linked_list.printLinkedList()"
   ]
  },
  {
   "cell_type": "markdown",
   "metadata": {},
   "source": [
    "### 2) Linked List node silmek\n",
    "* ankara => bolu => istanbul\n",
    "* key = bolu, linked list icerisinde key degeri bolu olan node'u bul ve sil\n",
    "* ankara => istanbul"
   ]
  },
  {
   "cell_type": "code",
   "execution_count": 103,
   "metadata": {},
   "outputs": [],
   "source": [
    "# node class\n",
    "class Node(object):\n",
    "    \n",
    "    def __init__(self,data):\n",
    "        \"\"\"\n",
    "        node initialize node yarat\n",
    "        \"\"\"\n",
    "        self.data = data\n",
    "        self.next = None"
   ]
  },
  {
   "cell_type": "code",
   "execution_count": 108,
   "metadata": {},
   "outputs": [],
   "source": [
    "# linked list class\n",
    "class LinkedList(object):\n",
    " \n",
    "    def __init__(self):\n",
    "        \"\"\"\n",
    "        head initializer\n",
    "        \"\"\"\n",
    "        self.head = None\n",
    "    \n",
    "    def push(self,new_data):\n",
    "        \"\"\"\n",
    "        linked list basina node ekler\n",
    "        \"\"\"\n",
    "        # node yarat ve icerisindeki veriyi belirle\n",
    "        new_node = Node(new_data)\n",
    "        \n",
    "        # yeni node kendisinden sonra gelen node'u isaret etsin\n",
    "        new_node.next = self.head\n",
    "        \n",
    "        # head yeni node'u isarate etsin\n",
    "        self.head = new_node\n",
    "     \n",
    "    def deleteNode(self, key):\n",
    "        \"\"\"\n",
    "        istenilen key'e gore node sil\n",
    "        \"\"\"\n",
    "        temp = self.head\n",
    "        \n",
    "        # eger tek bir node var ve bu node istenilen degere sahipse\n",
    "        if temp is not None:\n",
    "            if temp.data == key:\n",
    "                self.head = temp.next\n",
    "                temp = None\n",
    "                return\n",
    "        \n",
    "        # node'u silmek icin key parametresini ara\n",
    "        while temp is not None:\n",
    "            if temp.data == key:\n",
    "                break\n",
    "            prev = temp\n",
    "            temp = temp.next\n",
    "        \n",
    "        # node'u sil\n",
    "        prev.next = temp.next\n",
    "        temp = None\n",
    "      \n",
    "    def printLinkedList(self):\n",
    "        \"\"\"\n",
    "        linked list print eder\n",
    "        \"\"\"\n",
    "        temp = self.head\n",
    "        print(\"Linked list: \")\n",
    "        while temp:\n",
    "            print(temp.data)\n",
    "            temp = temp.next\n"
   ]
  },
  {
   "cell_type": "code",
   "execution_count": 109,
   "metadata": {},
   "outputs": [
    {
     "name": "stdout",
     "output_type": "stream",
     "text": [
      "Linked list: \n",
      "istanbul\n",
      "bolu\n",
      "ankara\n"
     ]
    }
   ],
   "source": [
    "linked_list = LinkedList()\n",
    "linked_list.push(\"ankara\")\n",
    "linked_list.push(\"bolu\")\n",
    "linked_list.push(\"istanbul\")\n",
    "linked_list.printLinkedList()"
   ]
  },
  {
   "cell_type": "code",
   "execution_count": 110,
   "metadata": {},
   "outputs": [
    {
     "name": "stdout",
     "output_type": "stream",
     "text": [
      "Linked list: \n",
      "istanbul\n",
      "ankara\n"
     ]
    }
   ],
   "source": [
    "linked_list.deleteNode(\"bolu\")\n",
    "linked_list.printLinkedList()"
   ]
  },
  {
   "cell_type": "markdown",
   "metadata": {},
   "source": [
    "<a id=\"7\"></a>\n",
    "## Neler Öğrendik\n",
    "* Linked List\n",
    "* Linked List with Python\n",
    "* Doubly Linked List\n",
    "* Doubly Linked List with Python\n",
    "* Linked List İş Mülakatları Soru-Cevap \n",
    "* Linked List Python Challenge/Problem\n",
    "* TAVSİYE: https://www.codingame.com/home"
   ]
  }
 ],
 "metadata": {
  "kernelspec": {
   "display_name": "Python 3",
   "language": "python",
   "name": "python3"
  },
  "language_info": {
   "codemirror_mode": {
    "name": "ipython",
    "version": 3
   },
   "file_extension": ".py",
   "mimetype": "text/x-python",
   "name": "python",
   "nbconvert_exporter": "python",
   "pygments_lexer": "ipython3",
   "version": "3.8.8"
  }
 },
 "nbformat": 4,
 "nbformat_minor": 2
}
