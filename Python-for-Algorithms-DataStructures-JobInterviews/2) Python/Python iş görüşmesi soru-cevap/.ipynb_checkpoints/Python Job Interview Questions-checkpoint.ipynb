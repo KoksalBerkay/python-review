{
 "cells": [
  {
   "cell_type": "markdown",
   "metadata": {},
   "source": [
    "## Python İş Mülakat Soru-Cevapları"
   ]
  },
  {
   "cell_type": "markdown",
   "metadata": {},
   "source": [
    "0) Python Kursumuzu izlediniz mi?\n",
    "* https://www.udemy.com/python-sfrdan-uzmanlga-programlama-1/"
   ]
  },
  {
   "cell_type": "markdown",
   "metadata": {},
   "source": [
    "1) Python Nedir?\n",
    "* Python high-level, etkileşimli ve nesne tabanlı bir dildir.\n",
    "* Python okunabilirliği çok kolay bir dildir."
   ]
  },
  {
   "cell_type": "markdown",
   "metadata": {},
   "source": [
    "2) Python'ın bazı temel özellikleri nelerdir?\n",
    "* Nesne Tabanlı\n",
    "* Free - open source\n",
    "* Büyük bir topluluğu var\n",
    "* Basit ve anlaşılır"
   ]
  },
  {
   "cell_type": "markdown",
   "metadata": {},
   "source": [
    "3) Deep Copy ve Shallow Copy arasındaki farklar?\n",
    "* Deep copy: orijinal objeyi başka yeni bir objeye kopyalar ama orijinal obje değiştirilirse yeni obje değişmez."
   ]
  },
  {
   "cell_type": "code",
   "execution_count": 1,
   "metadata": {},
   "outputs": [
    {
     "name": "stdout",
     "output_type": "stream",
     "text": [
      "Old list: [[1, 1, 1], [100, 2, 2]]\n",
      "New list: [[1, 1, 1], [2, 2, 2]]\n"
     ]
    }
   ],
   "source": [
    "import copy\n",
    "old_list = [[1, 1, 1], [2, 2, 2]]\n",
    "new_list = copy.deepcopy(old_list)\n",
    "old_list[1][0] = 100\n",
    "print(\"Old list:\", old_list)\n",
    "print(\"New list:\", new_list)"
   ]
  },
  {
   "cell_type": "markdown",
   "metadata": {},
   "source": [
    "* Shallow copy: orijinal objeyi başka yeni bir objeye kopyalar ama orijinal obje değiştirilirse yeni obje de değişir."
   ]
  },
  {
   "cell_type": "code",
   "execution_count": 2,
   "metadata": {},
   "outputs": [
    {
     "name": "stdout",
     "output_type": "stream",
     "text": [
      "Old list: [[1, 1, 1], [2, 100, 2]]\n",
      "New list: [[1, 1, 1], [2, 100, 2]]\n"
     ]
    }
   ],
   "source": [
    "old_list2 = [[1, 1, 1], [2, 2, 2]]\n",
    "new_list2 = copy.copy(old_list2)\n",
    "\n",
    "old_list2[1][1] = 100\n",
    "\n",
    "print(\"Old list:\", old_list2)\n",
    "print(\"New list:\", new_list2)"
   ]
  },
  {
   "cell_type": "markdown",
   "metadata": {},
   "source": [
    "4) Liste ve Tuple arası fark nedir?\n",
    "* List değişkendir\n",
    "* Tuple değişmez"
   ]
  },
  {
   "cell_type": "code",
   "execution_count": 3,
   "metadata": {},
   "outputs": [
    {
     "name": "stdout",
     "output_type": "stream",
     "text": [
      "[100, 2, 3]\n"
     ]
    }
   ],
   "source": [
    "liste = [1,2,3]\n",
    "liste[0] = 100\n",
    "print(liste)\n",
    "tup = (1,2,3)\n",
    "# tup[0] = 100"
   ]
  },
  {
   "cell_type": "markdown",
   "metadata": {},
   "source": [
    "5) Flask nedir?\n",
    "* Web framework for python"
   ]
  },
  {
   "cell_type": "markdown",
   "metadata": {},
   "source": [
    "6) Python da Memory Yönetimi nasıl?\n",
    "* Python özel bir heap space'e sahip. Bu nedenle bizim erişimimiz yok.\n",
    "* Ama core API ile bazı özelliklerine erişim sağlayabiliyoruz."
   ]
  },
  {
   "cell_type": "markdown",
   "metadata": {},
   "source": [
    "7) help() ve dir() fonksiyonu arasındaki farklar nelerdir?\n",
    "* help() fonksiyonu dokümanı string olarak sergiler\n",
    "* dir() fonksiyonu istenilen objenin tüm özelliklerini metotlarını sergiler"
   ]
  },
  {
   "cell_type": "code",
   "execution_count": 4,
   "metadata": {},
   "outputs": [
    {
     "name": "stdout",
     "output_type": "stream",
     "text": [
      "Help on function copy in module copy:\n",
      "\n",
      "copy(x)\n",
      "    Shallow copy operation on arbitrary Python objects.\n",
      "    \n",
      "    See the module's __doc__ string for more info.\n",
      "\n"
     ]
    }
   ],
   "source": [
    "help(copy.copy)"
   ]
  },
  {
   "cell_type": "code",
   "execution_count": 5,
   "metadata": {},
   "outputs": [
    {
     "data": {
      "text/plain": [
       "['__annotations__',\n",
       " '__call__',\n",
       " '__class__',\n",
       " '__closure__',\n",
       " '__code__',\n",
       " '__defaults__',\n",
       " '__delattr__',\n",
       " '__dict__',\n",
       " '__dir__',\n",
       " '__doc__',\n",
       " '__eq__',\n",
       " '__format__',\n",
       " '__ge__',\n",
       " '__get__',\n",
       " '__getattribute__',\n",
       " '__globals__',\n",
       " '__gt__',\n",
       " '__hash__',\n",
       " '__init__',\n",
       " '__init_subclass__',\n",
       " '__kwdefaults__',\n",
       " '__le__',\n",
       " '__lt__',\n",
       " '__module__',\n",
       " '__name__',\n",
       " '__ne__',\n",
       " '__new__',\n",
       " '__qualname__',\n",
       " '__reduce__',\n",
       " '__reduce_ex__',\n",
       " '__repr__',\n",
       " '__setattr__',\n",
       " '__sizeof__',\n",
       " '__str__',\n",
       " '__subclasshook__']"
      ]
     },
     "execution_count": 5,
     "metadata": {},
     "output_type": "execute_result"
    }
   ],
   "source": [
    "dir(copy.copy)"
   ]
  },
  {
   "cell_type": "markdown",
   "metadata": {},
   "source": [
    "7) Monkey Patching Nedir?\n",
    "* Kod run-time'da iken bir classı yada modülü değiştimeye yarar\n",
    "* Genelde bug ayıklamak için kullanılır."
   ]
  },
  {
   "cell_type": "markdown",
   "metadata": {},
   "source": [
    "8) Dictionary Nedir?\n",
    "* İçerisinde key-value çiftini barındıran kullanışlı yapılardır.\n",
    "* Mesela Ankara = key ve 1000 sayısıda bu key'in value'su"
   ]
  },
  {
   "cell_type": "code",
   "execution_count": 6,
   "metadata": {},
   "outputs": [
    {
     "name": "stdout",
     "output_type": "stream",
     "text": [
      "{'Ankara': 1000, 'istanbul': 2000}\n"
     ]
    }
   ],
   "source": [
    "dictionary = {\"Ankara\":1000,\"istanbul\":2000}\n",
    "print(dictionary)"
   ]
  },
  {
   "cell_type": "markdown",
   "metadata": {},
   "source": [
    "9) args ve kwargs kavramları nelerdir?\n",
    "* Bazı durumlarda fonksiyonların kaç tane input parametresi alacağını bilemeyiz bu nedenle *args'ı kullanırız.\n",
    "* kwargs ise dictionary gibi kullanılır."
   ]
  },
  {
   "cell_type": "code",
   "execution_count": 2,
   "metadata": {},
   "outputs": [
    {
     "name": "stdout",
     "output_type": "stream",
     "text": [
      "10\n",
      "11\n",
      "12\n"
     ]
    }
   ],
   "source": [
    "def deneme(*args):\n",
    "    for each in args:\n",
    "        print(each)\n",
    "        \n",
    "deneme(10,11,12)"
   ]
  },
  {
   "cell_type": "code",
   "execution_count": 8,
   "metadata": {},
   "outputs": [
    {
     "name": "stdout",
     "output_type": "stream",
     "text": [
      "a 1\n",
      "b 2\n",
      "c 3\n"
     ]
    }
   ],
   "source": [
    "def deneme2(**kwargs):\n",
    "    for each in kwargs:\n",
    "        print(each,kwargs[each])\n",
    "deneme2(a=1,b=2,c=3)"
   ]
  },
  {
   "cell_type": "markdown",
   "metadata": {},
   "source": [
    "10) Negative indexler nedir?\n",
    "* Normalde index sıfırdan saymaya başlar negative index tersten saymaya başlar."
   ]
  },
  {
   "cell_type": "code",
   "execution_count": 9,
   "metadata": {},
   "outputs": [
    {
     "name": "stdout",
     "output_type": "stream",
     "text": [
      "positive index:  1\n",
      "negative index:  5\n"
     ]
    }
   ],
   "source": [
    "liste = [1,2,3,4,5]\n",
    "print(\"positive index: \",liste[0])\n",
    "print(\"negative index: \",liste[-1])"
   ]
  },
  {
   "cell_type": "markdown",
   "metadata": {},
   "source": [
    "11) Listeyi nasıl random yaparsın?"
   ]
  },
  {
   "cell_type": "code",
   "execution_count": 10,
   "metadata": {},
   "outputs": [
    {
     "name": "stdout",
     "output_type": "stream",
     "text": [
      "shuffled:  [4, 1, 0, 3, 6, 8, 7, 5, 2]\n",
      "sorted:  [0, 1, 2, 3, 4, 5, 6, 7, 8]\n"
     ]
    }
   ],
   "source": [
    "mylist=[0,1,2,3,4,5,6,7,8]\n",
    "from random import shuffle\n",
    "shuffle(mylist)\n",
    "print(\"shuffled: \", mylist)\n",
    "mylist.sort()\n",
    "print(\"sorted: \",mylist)"
   ]
  },
  {
   "cell_type": "markdown",
   "metadata": {},
   "source": [
    "12) join() ve split() fonksiyonları ne işe yarar?"
   ]
  },
  {
   "cell_type": "code",
   "execution_count": 2,
   "metadata": {},
   "outputs": [
    {
     "name": "stdout",
     "output_type": "stream",
     "text": [
      "d.e.n.e.m.e\n",
      "['d', 'e', 'n', 'e', 'm', 'e']\n",
      "deneme\n"
     ]
    }
   ],
   "source": [
    "yeni = \".\".join(\"deneme\")\n",
    "print(yeni)\n",
    "first = yeni.split(\".\")\n",
    "print(first)\n",
    "j = \"\".join(first)\n",
    "print(j)"
   ]
  },
  {
   "cell_type": "markdown",
   "metadata": {},
   "source": [
    "13) Python da büyük küçük harf önemli mi?\n",
    "* Evet önemli"
   ]
  },
  {
   "cell_type": "code",
   "execution_count": 3,
   "metadata": {},
   "outputs": [],
   "source": [
    "deneme = \"datai\"\n",
    "#Deneme"
   ]
  },
  {
   "cell_type": "markdown",
   "metadata": {},
   "source": [
    "14) Keywords Identifier olarak kullanılır mı?\n",
    "* float bir keyword'dür ve identifier olarak kullanılmaz."
   ]
  },
  {
   "cell_type": "code",
   "execution_count": null,
   "metadata": {},
   "outputs": [],
   "source": [
    "#float = 15 # boyle kullanilmaz"
   ]
  },
  {
   "cell_type": "markdown",
   "metadata": {},
   "source": [
    "15) Leading ve Trailing whitespace ne demek?\n",
    "* Bir string olsun \"   datai   \"\n",
    "* Bu stringin başında ve sonunda boşluklar var.\n",
    "* Başında olan boşluk leading whitespace\n",
    "* Sonunda olan boşluk trailing whitespace\n",
    "* Bunları aşağıdaki gibi yok edebiliriz."
   ]
  },
  {
   "cell_type": "code",
   "execution_count": 4,
   "metadata": {},
   "outputs": [
    {
     "name": "stdout",
     "output_type": "stream",
     "text": [
      "datai   \n",
      "   datai\n",
      "datai\n"
     ]
    }
   ],
   "source": [
    "string = '   datai   '\n",
    "print(string.lstrip()) # ondeki boslugu yok et\n",
    "print(string.rstrip()) # arkadaki boslugu yok et\n",
    "print(string.strip())  # ondeki ve arkadaki boslukları yok et"
   ]
  },
  {
   "cell_type": "markdown",
   "metadata": {},
   "source": [
    "16) Bir string'i küçük ve büyük harfe nasıl çevirirsin?"
   ]
  },
  {
   "cell_type": "code",
   "execution_count": 10,
   "metadata": {},
   "outputs": [
    {
     "name": "stdout",
     "output_type": "stream",
     "text": [
      "datai\n",
      "DATAI\n"
     ]
    }
   ],
   "source": [
    "string = \"DATai\"\n",
    "print(string.lower())\n",
    "print(string.upper())"
   ]
  },
  {
   "cell_type": "markdown",
   "metadata": {},
   "source": [
    "17) Python da Pass, Break ve Continue nasıl kullanılır?\n",
    "* Bir fonksiyon tanımladık ama içine ne yazacağımızı henüz bilemedik bizde pass yazarız"
   ]
  },
  {
   "cell_type": "code",
   "execution_count": null,
   "metadata": {},
   "outputs": [],
   "source": [
    "# pass\n",
    "def datai():\n",
    "    pass"
   ]
  },
  {
   "cell_type": "code",
   "execution_count": 11,
   "metadata": {},
   "outputs": [
    {
     "name": "stdout",
     "output_type": "stream",
     "text": [
      "0\n",
      "1\n",
      "2\n",
      "buldum neyi:  2\n"
     ]
    }
   ],
   "source": [
    "# break\n",
    "for each in range(5):\n",
    "    print(each)\n",
    "    if each == 2:\n",
    "        print(\"buldum neyi: \",each)\n",
    "        break"
   ]
  },
  {
   "cell_type": "code",
   "execution_count": 12,
   "metadata": {},
   "outputs": [
    {
     "name": "stdout",
     "output_type": "stream",
     "text": [
      "0\n",
      "1\n",
      "2\n",
      "eşit sayı bulundu\n",
      "3\n",
      "4\n"
     ]
    }
   ],
   "source": [
    "# continue\n",
    "for each in range(5):\n",
    "    print(each)\n",
    "    if each == 2:\n",
    "        print(\"eşit sayı bulundu\")\n",
    "        continue"
   ]
  },
  {
   "cell_type": "markdown",
   "metadata": {},
   "source": [
    "18) //, %, and ** işaretleri nelerdir?\n",
    "* // işareti operator olarak geçer ve bölme işleminin integer kısmını döndürür\n",
    "* ** power yani üssü anlamına gelir \n",
    "* % bölüm sonucu kalanı verir"
   ]
  },
  {
   "cell_type": "code",
   "execution_count": 13,
   "metadata": {},
   "outputs": [
    {
     "name": "stdout",
     "output_type": "stream",
     "text": [
      "3.3333333333333335\n",
      "3\n"
     ]
    }
   ],
   "source": [
    "# //\n",
    "print(10/3)\n",
    "print(10//3)"
   ]
  },
  {
   "cell_type": "code",
   "execution_count": 14,
   "metadata": {},
   "outputs": [
    {
     "name": "stdout",
     "output_type": "stream",
     "text": [
      "81\n",
      "81\n"
     ]
    }
   ],
   "source": [
    "# ** \n",
    "print(9*9)\n",
    "print(9**2)"
   ]
  },
  {
   "cell_type": "code",
   "execution_count": 15,
   "metadata": {},
   "outputs": [
    {
     "name": "stdout",
     "output_type": "stream",
     "text": [
      "3.3333333333333335\n",
      "1\n"
     ]
    }
   ],
   "source": [
    "# %\n",
    "print(10/3)\n",
    "print(10%3)"
   ]
  },
  {
   "cell_type": "markdown",
   "metadata": {},
   "source": [
    "19) Membership operator ne demektir?"
   ]
  },
  {
   "cell_type": "code",
   "execution_count": 16,
   "metadata": {},
   "outputs": [
    {
     "data": {
      "text/plain": [
       "True"
      ]
     },
     "execution_count": 16,
     "metadata": {},
     "output_type": "execute_result"
    }
   ],
   "source": [
    "\"ai\" in \"datai\""
   ]
  },
  {
   "cell_type": "code",
   "execution_count": 17,
   "metadata": {},
   "outputs": [
    {
     "data": {
      "text/plain": [
       "True"
      ]
     },
     "execution_count": 17,
     "metadata": {},
     "output_type": "execute_result"
    }
   ],
   "source": [
    "\"ai\" not in \"istanbul\""
   ]
  }
 ],
 "metadata": {
  "kernelspec": {
   "display_name": "Python 3",
   "language": "python",
   "name": "python3"
  },
  "language_info": {
   "codemirror_mode": {
    "name": "ipython",
    "version": 3
   },
   "file_extension": ".py",
   "mimetype": "text/x-python",
   "name": "python",
   "nbconvert_exporter": "python",
   "pygments_lexer": "ipython3",
   "version": "3.8.8"
  }
 },
 "nbformat": 4,
 "nbformat_minor": 2
}
