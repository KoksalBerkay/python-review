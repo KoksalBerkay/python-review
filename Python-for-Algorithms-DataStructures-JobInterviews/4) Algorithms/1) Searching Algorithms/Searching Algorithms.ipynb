{
 "cells": [
  {
   "cell_type": "markdown",
   "metadata": {},
   "source": [
    "# Searching Algorithms"
   ]
  },
  {
   "cell_type": "markdown",
   "metadata": {},
   "source": [
    "## İçerik:\n",
    "* [Sequential (Linear) Search with Unordered List](#1)\n",
    "* [Sequential (Linear) Search with Ordered List](#2)\n",
    "* [Binary Search](#3)\n",
    "* [Jump Search](#5)\n",
    "* [Hashing ve Hash Table](#44)\n",
    "* [Searching Algorithms İş Mülakatları Soru-Cevap](#55)\n",
    "* [Searching Algorithms Python Challenge/Problem](#66)\n",
    "* [Neler Öğrendik](#99)"
   ]
  },
  {
   "cell_type": "markdown",
   "metadata": {},
   "source": [
    "<a id=\"1\"></a>\n",
    "## Sequential (Linear) Search with Unordered List\n",
    "* Sequential Search sıralı arama demektir.\n",
    "* Unordered list ise bir listenin içerisinde ki değerlerin *sırasız* bir şekilde bulunduğu listelerdir.\n",
    "    * [5, 7, 2, 3, 15, 8, 100, 12]\n",
    "* Sequential Search de aranan sayı listenin içinde baştan başlayarak sırayla aranır.\n",
    "* Mesela 8 sayısını yukarıda tanımlı listenin içerisinde aramak istiyoruz. Aramaya baştan başlanır ve sırasıyla bulana kadar devam edilir. Eğer aranan sayı bulunamaz ise arama listenin sonuna kadar devam eder.\n",
    "* ![Time](unordered_list_analizi.jpg)\n",
    "* En iyi durumda aranan değer bulunur ise complexity of algoritma O(1)\n",
    "* Diğer durumlarda ise complexity of algoritma O(n)"
   ]
  },
  {
   "cell_type": "code",
   "execution_count": 1,
   "metadata": {},
   "outputs": [],
   "source": [
    "def sequentialSearchUnorderedList(liste,value):\n",
    "    \"\"\"\n",
    "    sequantial search for unordered list\n",
    "    \"\"\"\n",
    "    index = 0\n",
    "    found = False\n",
    "    \n",
    "    while index < len(liste) and not found:\n",
    "        \n",
    "        if liste[index] == value:\n",
    "            found = True\n",
    "        else:\n",
    "            index += 1\n",
    "    return (found,index)"
   ]
  },
  {
   "cell_type": "code",
   "execution_count": 2,
   "metadata": {},
   "outputs": [
    {
     "name": "stdout",
     "output_type": "stream",
     "text": [
      "True\n",
      "4\n"
     ]
    }
   ],
   "source": [
    "liste = [5, 7, 2, 3, 15, 8, 100, 12]\n",
    "found , index = sequentialSearchUnorderedList(liste, 15)\n",
    "print(found)\n",
    "print(index)"
   ]
  },
  {
   "cell_type": "markdown",
   "metadata": {},
   "source": [
    "<a id=\"2\"></a>\n",
    "## Sequential (Linear) Search with Ordered List\n",
    "* Sequential Search sıralı arama demektir.\n",
    "* Ordered list ise bir listenin içerisinde ki değerlerin *sıralı* bir şekilde bulunduğu listelerdir.\n",
    "    * [2, 3, 5, 7, 8, 12, 15, 100]\n",
    "* Mesela 8 sayısını yukarıda tanımlı listenin içerisinde aramak istiyoruz. Aramaya baştan başlanır ve sırasıyla bulana kadar devam edilir. Eğer aranan sayı bulunamaz ise liste ordered olduğu için aranan sayıdan daha büyük bir sayı ile karşılaşıldığında arama sona erer.\n",
    "* Başka bir örnek vermek gerekirse. Yukarıda ki liste içerisinde 6 sayısını arıyoruz. Baştan başlayıp aramaya devam ederken 7 sayısı ile karşılaştığımızda arama sona erer.\n",
    "* ![Time](ordered_list_analizi.jpg)\n",
    "* En iyi durumda complexity of algoritma O(1)\n",
    "* En kötü durumda ise complexity of algoritma O(n)"
   ]
  },
  {
   "cell_type": "code",
   "execution_count": 3,
   "metadata": {},
   "outputs": [],
   "source": [
    "def sequentialSearchOrderedList(liste,value):\n",
    "    \"\"\"\n",
    "    sequential search for ordered list\n",
    "    \"\"\"\n",
    "    \n",
    "    index = 0\n",
    "    found = False\n",
    "    stop = False\n",
    "    while index < len(liste) and not found and not stop:\n",
    "        if liste[index] == value:\n",
    "            found = True\n",
    "        else:\n",
    "            if value < liste[index]:\n",
    "                stop = True\n",
    "            else:\n",
    "                index += 1\n",
    "    return (found,index)"
   ]
  },
  {
   "cell_type": "code",
   "execution_count": 4,
   "metadata": {},
   "outputs": [
    {
     "name": "stdout",
     "output_type": "stream",
     "text": [
      "False\n",
      "5\n"
     ]
    }
   ],
   "source": [
    "liste = [2, 3, 5, 7, 8, 12, 15, 100]\n",
    "found,index = sequentialSearchOrderedList(liste,11)\n",
    "print(found)\n",
    "print(index)"
   ]
  },
  {
   "cell_type": "markdown",
   "metadata": {},
   "source": [
    "<a id=\"3\"></a>\n",
    "## Binary Search\n",
    "* Sequential search aksine binary search sıralı arama yapmaz.\n",
    "* Binary search ordered yani sıralı listelerde çok avantajlıdır.\n",
    "* Binary search aramaya ortadan başlar. Eğer aradığı değer ortadaki değerden büyük ise bir sonraki arama adımını listenin upper half kısmında yapar. Bu process böyle tekrar eder.\n",
    "* ![Time](binarys.jpg)\n",
    "* Binary search divide and conquer(böl ve fethet) mantığı ile çalışır.\n",
    "* Binary search complexity of algorithm logarithmic big O yani O(log n). n bir listedeki eleman sayısı"
   ]
  },
  {
   "cell_type": "code",
   "execution_count": 1,
   "metadata": {},
   "outputs": [],
   "source": [
    "def binarySearch(liste,value):\n",
    "    \"\"\"\n",
    "    binary search for sorted array\n",
    "    \"\"\"\n",
    "    first_index = 0\n",
    "    last_index = len(liste) - 1\n",
    "    \n",
    "    found = False\n",
    "    \n",
    "    while first_index <= last_index and not found:\n",
    "        \n",
    "        middle_index = int((first_index + last_index) / 2)\n",
    "        \n",
    "        if liste[middle_index] == value:\n",
    "            found = True\n",
    "        else:\n",
    "            # lower half\n",
    "            if value < liste[middle_index]:\n",
    "                last_index = middle_index - 1\n",
    "                print(\"lower half\")\n",
    "            # upper half\n",
    "            else:\n",
    "                first_index = middle_index + 1\n",
    "                print(\"upper half\")\n",
    "    return found"
   ]
  },
  {
   "cell_type": "code",
   "execution_count": 2,
   "metadata": {},
   "outputs": [
    {
     "name": "stdout",
     "output_type": "stream",
     "text": [
      "upper half\n",
      "lower half\n"
     ]
    },
    {
     "data": {
      "text/plain": [
       "True"
      ]
     },
     "execution_count": 2,
     "metadata": {},
     "output_type": "execute_result"
    }
   ],
   "source": [
    "liste = [3,6,11,12,18,21,34]\n",
    "binarySearch(liste,18)"
   ]
  },
  {
   "cell_type": "code",
   "execution_count": 4,
   "metadata": {},
   "outputs": [
    {
     "name": "stdout",
     "output_type": "stream",
     "text": [
      "lower half\n",
      "lower half\n",
      "lower half\n"
     ]
    },
    {
     "data": {
      "text/plain": [
       "False"
      ]
     },
     "execution_count": 4,
     "metadata": {},
     "output_type": "execute_result"
    }
   ],
   "source": [
    "liste = [3,6,11,12,18,21,34]\n",
    "binarySearch(liste,2)"
   ]
  },
  {
   "cell_type": "markdown",
   "metadata": {},
   "source": [
    "<a id=\"5\"></a>\n",
    "## Jump Search\n",
    "* Jump Search de binary search gibi sorted listelerde arama yapmak için kullanılır.\n",
    "* Jump search sequential search de olduğu gibi tek tek arama yapmak yerine belli bir step size ile zıplayarak arama yapar.\n",
    "* Örneğin elimizde sıralı bir liste olsun [0, 1, 2, 3, 4, 5, 6, 7, 8] \n",
    "    * Search etmek istediğimiz sayı 5 olsun \n",
    "    * arama 3 index atlayarak yapılsın.\n",
    "    * Step1: index 0'dan index 3'e bir atlama gerçekleşti ama bulunamadı\n",
    "    * step2: index 3'dan index 6'ya bir atlama gerçekleşti ama bulunamadı\n",
    "    * step3: aranan değerin index 6 da bulunan değerden küçük olduğu görüldü ve bu nedenle index 4 e atlandı.\n",
    "    * step4: index 4 den itibaren aranan değeri bulana kadar linear search yapıldı.\n",
    "    * ![Time](jump.jpg)\n",
    "* Jump Search'ün time complexity'si Linear Search(O(n)) ve Binary Search(O(Log n)) arasındadır."
   ]
  },
  {
   "cell_type": "code",
   "execution_count": 1,
   "metadata": {},
   "outputs": [],
   "source": [
    "import math\n",
    "def jumpSearch(liste,value):\n",
    "    \"\"\"\n",
    "    jump search for sorted array\n",
    "    \"\"\"\n",
    "    n = len(liste)\n",
    "    step = math.sqrt(n) # karekök alma\n",
    "    \n",
    "    prev = 0\n",
    "    \n",
    "    while liste[int(min(step,n)-1)] < value:\n",
    "        prev = step\n",
    "        step += math.sqrt(n)\n",
    "        \n",
    "        if prev >= n:\n",
    "            return -1\n",
    "    while liste[int(prev)] < value:\n",
    "        prev += 1\n",
    "        \n",
    "        if prev == min(step,n):\n",
    "            return -1\n",
    "        \n",
    "    if liste[int(prev) == value]:\n",
    "        return int(prev)\n",
    "    \n",
    "    return -1"
   ]
  },
  {
   "cell_type": "code",
   "execution_count": 2,
   "metadata": {},
   "outputs": [
    {
     "data": {
      "text/plain": [
       "-1"
      ]
     },
     "execution_count": 2,
     "metadata": {},
     "output_type": "execute_result"
    }
   ],
   "source": [
    "liste = [0,1,2,3,4,5,6,7,8,18,21,44]\n",
    "jumpSearch(liste,45)"
   ]
  },
  {
   "cell_type": "markdown",
   "metadata": {},
   "source": [
    "<a id=\"44\"></a>\n",
    "## Hashing ve Hash Table\n",
    "* Diğer searching algoritmalarından farklı olarak complexity of algorithm O(1) olan bir data strucure elde edebiliriz. Bu konsept hashing diye adlandırılır.\n",
    "* Hash table değerlerin daha sonra kolay bulunabilmesini sağlayan bir data  structure yapısıdır.\n",
    "* Hash table üzerindeki her bir pozisyon slots olarak adlandırılır.\n",
    "* Bunu boş bir liste olarak düşünebilirsiniz.\n",
    "* 10 tane boş slotu olan bir hash table![Time](hash_e.jpg)\n",
    "* Hash function: slotlar ve bu slotlarda ki itemler arasında bağlantı(mapping) kurmaya yarayan fonksiyondur.\n",
    "* Hash fonksiyonu item değerini alır ve bu item'ın hangi slotta olduğu return eder.\n",
    "* Hash function remainder method: item'ı hangi slot'a koyacağımızı remainder yöntemi ile bulmak\n",
    "* Mesela bir hast table'ımız var. n = 8 yani empty hash table size. \n",
    "* Bir listemiz var [ 44, 36, 83, 27,67,41 ]\n",
    "* h(item) = item%n => hash value\n",
    "* collusion: birden fazla linked listing bir slot'a bağlanması.\n",
    "* ![Time](hashf.jpg)\n",
    "* searching O(n) n = belli bir slotta linked list eleman sayısı. \n",
    "* Zaten amacımızda hash function kullanarak hash table üzerinde ki her bir slot için 1 tane value atamak. Böylece searching içi constant time complexity'ye sahip oluruz. O(1)."
   ]
  },
  {
   "cell_type": "markdown",
   "metadata": {},
   "source": [
    "<a id=\"55\"></a>\n",
    "## Searching Algorithms İş Mülakatları Soru-Cevap\n",
    "* Algoritma Ne Demektir?\n",
    "    * Algoritma, girdi olarak bir değer ya da değer kümesi alan ve çıktı olarak bir değer ya da değer kümesi üreten iyi tanımlanmış bir hesaplama prosedürüdür. Bir algoritma, girişi çıktıya dönüştüren bir hesaplama adımları dizisidir. (Source: Introduction to Algorithms 3rd Edition by CLRS)\n",
    "* Binary search'ü açıklayın?\n",
    "    * İlk önce arrayin ortasındaki değere bakarız. \n",
    "    * Aradığımız değer bu ortadaki değerden büyükse upper half'ın ortasındaki değere bakarız ve lower half'ı iptal ederiz. \n",
    "    * Daha sonra aradığımız değer lower half'ın ortasında ki değerden büyükse bu seferde upper half in upper half'ına bakarız. \n",
    "    * Arama bu süreçleri tekrar ederek sürer gider.\n",
    "* Binary Search time complexity (Big O ) nedir?\n",
    "    * Binary search recursion ile çözülebiliyor. Recursion ile implement edildiği zaman O(Logn)'dir.\n",
    "* Binary Search ile Linked list de arama yapılır mı?\n",
    "    * Hayır. Binary search de arama ortadan başladığı için linked listte bir anda(yani O(1) sürede) ortaya gidemez.\n",
    "* Hash Algorithm nerelerde kullanılır bir örnek verin?\n",
    "    * Şifre doğrulama\n",
    "* Algoritmada best case ve worst case senaryoların tanımı nedir?\n",
    "    * Best case: en hızlı mesela binary search de aranan değerin arrayin ortasında olması\n",
    "    * Worst case: en yavaş"
   ]
  },
  {
   "cell_type": "markdown",
   "metadata": {},
   "source": [
    "<a id=\"66\"></a>\n",
    "## Searching Algorithms Python Challenge/Problem\n",
    "1. Binary Search with recursion"
   ]
  },
  {
   "cell_type": "markdown",
   "metadata": {},
   "source": [
    "### 1) Binary Search with recursion"
   ]
  },
  {
   "cell_type": "code",
   "execution_count": 2,
   "metadata": {},
   "outputs": [],
   "source": [
    "def rec_binary_search(arr,ele):\n",
    "    \"\"\"\n",
    "    binary search with recursion\n",
    "    \"\"\"\n",
    "    \n",
    "    # base case\n",
    "    if len(arr) == 0:\n",
    "        return False\n",
    "    \n",
    "    # recursive case\n",
    "    else:\n",
    "        mid = int (len(arr)/2)\n",
    "        \n",
    "        # if match found\n",
    "        if arr[mid] == ele:\n",
    "            return True\n",
    "        else:\n",
    "            #lower\n",
    "            if ele < arr[mid]:\n",
    "                return rec_binary_search(arr[:mid],ele)\n",
    "                \n",
    "            #upper\n",
    "            else:\n",
    "                return rec_binary_search(arr[mid+1:],ele)\n",
    "                "
   ]
  },
  {
   "cell_type": "code",
   "execution_count": 3,
   "metadata": {},
   "outputs": [
    {
     "data": {
      "text/plain": [
       "True"
      ]
     },
     "execution_count": 3,
     "metadata": {},
     "output_type": "execute_result"
    }
   ],
   "source": [
    "liste = [3,6,11,12,18,21,34]\n",
    "rec_binary_search(liste,18)"
   ]
  },
  {
   "cell_type": "code",
   "execution_count": 4,
   "metadata": {},
   "outputs": [
    {
     "data": {
      "text/plain": [
       "False"
      ]
     },
     "execution_count": 4,
     "metadata": {},
     "output_type": "execute_result"
    }
   ],
   "source": [
    "rec_binary_search(liste,28)"
   ]
  },
  {
   "cell_type": "markdown",
   "metadata": {},
   "source": [
    "<a id=\"99\"></a>\n",
    "## Neler Öğrendik\n",
    "* Sequential (Linear) Search with Unordered List\n",
    "* Sequential (Linear) Search with Ordered List\n",
    "* Binary Search\n",
    "* Jump Search\n",
    "* Hashing ve Hash Table\n",
    "* Searching Algorithms İş Mülakatları Soru-Cevap\n",
    "* Searching Algorithms Python Challenge/Problem"
   ]
  }
 ],
 "metadata": {
  "kernelspec": {
   "display_name": "Python 3",
   "language": "python",
   "name": "python3"
  },
  "language_info": {
   "codemirror_mode": {
    "name": "ipython",
    "version": 3
   },
   "file_extension": ".py",
   "mimetype": "text/x-python",
   "name": "python",
   "nbconvert_exporter": "python",
   "pygments_lexer": "ipython3",
   "version": "3.8.8"
  }
 },
 "nbformat": 4,
 "nbformat_minor": 2
}
