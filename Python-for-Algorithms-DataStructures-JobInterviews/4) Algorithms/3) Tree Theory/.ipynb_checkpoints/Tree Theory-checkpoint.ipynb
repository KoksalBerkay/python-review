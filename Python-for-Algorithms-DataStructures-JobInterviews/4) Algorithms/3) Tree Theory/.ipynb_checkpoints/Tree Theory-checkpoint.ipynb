{
 "cells": [
  {
   "cell_type": "markdown",
   "metadata": {},
   "source": [
    "# Tree Theory"
   ]
  },
  {
   "cell_type": "markdown",
   "metadata": {},
   "source": [
    "## İçerik\n",
    "* [Tree](#1)\n",
    "* [Binary Tree](#2)\n",
    "* [Binary Tree with Python](#3)\n",
    "* [Binary Search Tree (BST)](#4)\n",
    "* [Binary Search Tree with Python](#5)\n",
    "* [Tree Theory İş Mülakatları Soru-Cevap](#55)\n",
    "* [Tree Theory Python Challenge/Problem](#66)\n",
    "* [Neler Öğrendik](#77)"
   ]
  },
  {
   "cell_type": "markdown",
   "metadata": {},
   "source": [
    "<a id=\"1\"></a>\n",
    "## Tree\n",
    "* Trees bir data structure'dır. Aynı zamanda belirli özellikleri taşıyan bir graph'dır. (graph konusunu bir sonraki section da göreceğiz)\n",
    "* Trees yapısı array, linked list ve queue gibi linear data structure'ların aksine hierarchical data structure'dır.\n",
    "* A is root.\n",
    "* A is parent of B\n",
    "* B is child of A\n",
    "* H ve I leaves olarak adlandırılan node'lardır. Leaves yada leaf çocuğu olmayan node'lara denir.\n",
    "* ![Time](resim1.jpg)\n",
    "* Tree'lerin kullanım alanlarından ilki hierarchy olması durumudur. Mesela bilgisayarlarımızda bulunan dosya yapısı.\n",
    "* ![Time](resim2.jpg)\n",
    "* Trees bazı durumlarda hem arama yapmada hem de node ekleme ve çıkarmada diğer data structure'lardan hızlıdır. Bu nedenle hierarchy söz konusu ise avantaj sağlar.\n"
   ]
  },
  {
   "cell_type": "markdown",
   "metadata": {},
   "source": [
    "<a id=\"2\"></a>\n",
    "## Binary Tree\n",
    "* Node'larında en fazla 2 children(çocuğu) olan yapılara denir. \n",
    "* Children sayısı maksimum 2 olacağı için isimleri left ve right olarak adlandırılmıştır.\n",
    "* Left child ve right child gibi.\n",
    "* Belirli bir levelde ki Maksimum node sayısı 2^(l-1). l = level numarası\n",
    "* Mesela 3. levelda maksimum node sayısı 2^3 = 8\n",
    "* height = istenilen node'dan en aşağıda bir yaprağa doğru olan path'lerin toplam sayısı\n",
    "* root height = 3 = height of tree\n",
    "* leaves height = 0\n",
    "* ![Time](resim3.jpg)\n",
    "* Bazı önemli tree tipleri:\n",
    "\t* Full Binary Tree: Her bir node 0 yada 2 çocuğa sahip olan yapılar\n",
    "\t* ![Time](fullybinarytree.jpg)\n",
    "\t* Complete Binary Tree: Ya tüm level'ları dolu olacak yada en azından son level'ında node'lar olabildiğince sol tarafta olacak.\n",
    "\t* ![Time](completebinarytree.jpg)\n",
    "\t* Perfect Binary Tree: tüm node'lar 2 children'a sahip olacak ayrıca tüm leaves aynı level'da olacak\n",
    "\t* ![Time](perfectbt.jpg)\n",
    "\t* A degenerate (or pathological) tree: her node 1 child'a sahipse. Fark ettiğiniz üzere linked list'e çok benziyor.\n",
    "\t* ![Time](de.jpg)"
   ]
  },
  {
   "cell_type": "markdown",
   "metadata": {},
   "source": [
    "<a id=\"3\"></a>\n",
    "## Binary Tree with Python"
   ]
  },
  {
   "cell_type": "markdown",
   "metadata": {},
   "source": [
    "![Time](pythoniim.jpg)"
   ]
  },
  {
   "cell_type": "code",
   "execution_count": 3,
   "metadata": {},
   "outputs": [],
   "source": [
    "class Node:\n",
    "    \"\"\"\n",
    "    binary tree nodes\n",
    "    \"\"\"\n",
    "    def __init__(self,key):\n",
    "        \"\"\"\n",
    "        constructor\n",
    "        \"\"\"\n",
    "        self.val = key\n",
    "        self.right = None\n",
    "        self.left = None\n",
    "    "
   ]
  },
  {
   "cell_type": "code",
   "execution_count": 4,
   "metadata": {},
   "outputs": [],
   "source": [
    "# create root\n",
    "root = Node(\"A\")\n",
    "root.left = Node(\"B\")\n",
    "root.left.left = Node(\"D\")\n",
    "root.right = Node(\"C\")"
   ]
  },
  {
   "cell_type": "markdown",
   "metadata": {},
   "source": [
    "<a id=\"4\"></a>\n",
    "## Binary Search Tree\n",
    "* Her node'a solundaki kolundan ulaşalabilecek bütün değerlerin node'un değerinden küçük, sağ kolundan ulaşılabilecek bütün değerlerin o node'un değerinden büyük olmasını şart koşar.\n",
    "* Ve tabii ki ayrıca binary tree olmak zorunda.\n",
    "* ![Time](bst.jpg)\n",
    "* BST'de ordering olmasından dolayı search hızlı yapılır.\n",
    "* En kötü durumda (worst case) searching ve inserting operation'ların time complexity'si O(h) dır. h = height. "
   ]
  },
  {
   "cell_type": "markdown",
   "metadata": {},
   "source": [
    "<a id=\"5\"></a>\n",
    "## Binary Search Tree with Python"
   ]
  },
  {
   "cell_type": "code",
   "execution_count": 11,
   "metadata": {},
   "outputs": [],
   "source": [
    "class Node:\n",
    "    def __init__(self,key):\n",
    "        \"\"\"\n",
    "        constructor\n",
    "        \"\"\"\n",
    "        self.val = key\n",
    "        self.left = None\n",
    "        self.right = None"
   ]
  },
  {
   "cell_type": "code",
   "execution_count": 12,
   "metadata": {},
   "outputs": [],
   "source": [
    "def insert(root,node):\n",
    "    if root is None:\n",
    "        root = node\n",
    "    else:\n",
    "        if root.val < node.val:\n",
    "            if root.right is None:\n",
    "                root.right = node\n",
    "            else:\n",
    "                insert(root.right,node)\n",
    "        else:\n",
    "            if root.left is None:\n",
    "                root.left = node\n",
    "            else: \n",
    "                insert(root.left,node)"
   ]
  },
  {
   "cell_type": "code",
   "execution_count": 19,
   "metadata": {},
   "outputs": [],
   "source": [
    "r = Node(41)\n",
    "insert(r,Node(65))\n",
    "insert(r,Node(99))\n",
    "insert(r,Node(50))\n",
    "insert(r,Node(20))\n",
    "insert(r,Node(11))\n",
    "insert(r,Node(29))\n",
    "insert(r,Node(51))"
   ]
  },
  {
   "cell_type": "code",
   "execution_count": 17,
   "metadata": {},
   "outputs": [],
   "source": [
    "def inorder(root):\n",
    "    if root:\n",
    "        inorder(root.left)\n",
    "        print(root.val)\n",
    "        inorder(root.right)\n",
    "    else:\n",
    "        return None\n",
    "        "
   ]
  },
  {
   "cell_type": "code",
   "execution_count": 18,
   "metadata": {},
   "outputs": [
    {
     "name": "stdout",
     "output_type": "stream",
     "text": [
      "11\n",
      "20\n",
      "29\n",
      "41\n",
      "50\n",
      "65\n",
      "99\n"
     ]
    }
   ],
   "source": [
    "inorder(r)"
   ]
  },
  {
   "cell_type": "markdown",
   "metadata": {},
   "source": [
    "<a id=\"55\"></a>\n",
    "## Tree Theory İş Mülakatları Soru-Cevap\n",
    "* Binary tree tipleri nelerdir?\n",
    "\t* Full binary tree\n",
    "\t* Perfect Binary Tree\n",
    "\t* Complete Binary Tree\n",
    "* Binary tree traversal ne demektir?\n",
    "\t* traversal için searching de denilebilir. Yani tree üzerinde dolaşmak\n",
    "\t* 2 çeşittir\n",
    "\t\t* Breadth First Traversal (BFT): ilk önce çocukların 1 level'ını traverse et daha sonra çocuklarının çocuklarını traverse et\n",
    "\t\t* Depth First Traversal (DFT): İlk önce left subtree'yi traverse et daha sonra right subtree'yi.\n",
    "\t\t* ![Time](dfs.jpg)\n",
    "* 2 tane binary tree'ye identical diyebilmemiz için ne gerekli?\n",
    "\t* Eğer binary trees yapısal olarak ve her bir node'daki değerler olarak aynıysa identical diyebiliriz.\n",
    "* Binary tree de 2 tane node kuzen mi değil mi nasıl anlarız?\n",
    "\t* Node'lar kardeş olmayacak ama aynı level da olacak\n",
    "* Aşağıdaki soruları cevaplayınız?\n",
    "\t* Tree'nin height'i nedir? \n",
    "    * B kimin parent'i kimin child'i. (D,E),(A)\n",
    "    * Cousin node var mı? E,F\n",
    "    * ![Time](resim1.jpg) \n",
    "* En kötü durumda BST için search, insert ve delete işlemleri için time complexity nedir?\n",
    "\t* O(n) "
   ]
  },
  {
   "cell_type": "markdown",
   "metadata": {},
   "source": [
    "<a id=\"66\"></a>\n",
    "## Tree Theory Python Challenge/Problem\n",
    "1. Key search"
   ]
  },
  {
   "cell_type": "markdown",
   "metadata": {},
   "source": [
    "### 1) Key search"
   ]
  },
  {
   "cell_type": "code",
   "execution_count": 40,
   "metadata": {},
   "outputs": [],
   "source": [
    "class Node:\n",
    "    \n",
    "    def __init__(self,key):\n",
    "        \"\"\"\n",
    "        node constructor\n",
    "        \"\"\"\n",
    "        self.val = key\n",
    "        self.right = None\n",
    "        self.left = None"
   ]
  },
  {
   "cell_type": "code",
   "execution_count": 41,
   "metadata": {},
   "outputs": [],
   "source": [
    "def search(root,key):\n",
    "    \"\"\"\n",
    "    search key in tree\n",
    "    \"\"\"\n",
    "    # base case\n",
    "    if root is None or root.val == key:\n",
    "        return root\n",
    "\n",
    "    if root.val < key:\n",
    "        return search(root.right,key)\n",
    "    else:\n",
    "        return search(root.left,key)"
   ]
  },
  {
   "cell_type": "code",
   "execution_count": 43,
   "metadata": {},
   "outputs": [
    {
     "name": "stdout",
     "output_type": "stream",
     "text": [
      "50\n"
     ]
    }
   ],
   "source": [
    "r = Node(41)\n",
    "insert(r,Node(11))\n",
    "insert(r,Node(20))\n",
    "insert(r,Node(29))\n",
    "insert(r,Node(65))\n",
    "insert(r,Node(50))\n",
    "insert(r,Node(99))\n",
    "print(search(r,50).val)"
   ]
  },
  {
   "cell_type": "markdown",
   "metadata": {},
   "source": [
    "## Neler Öğrendik\n",
    "* Tree\n",
    "* Binary Tree\n",
    "* Binary Tree with Python\n",
    "* Binary Search Tree (BST)\n",
    "* Binary Search Tree with Python\n",
    "* Tree Theory İş Mülakatları Soru-Cevap\n",
    "* Tree Theory Python Challenge/Problem"
   ]
  }
 ],
 "metadata": {
  "kernelspec": {
   "display_name": "Python 3",
   "language": "python",
   "name": "python3"
  },
  "language_info": {
   "codemirror_mode": {
    "name": "ipython",
    "version": 3
   },
   "file_extension": ".py",
   "mimetype": "text/x-python",
   "name": "python",
   "nbconvert_exporter": "python",
   "pygments_lexer": "ipython3",
   "version": "3.6.5"
  }
 },
 "nbformat": 4,
 "nbformat_minor": 2
}
