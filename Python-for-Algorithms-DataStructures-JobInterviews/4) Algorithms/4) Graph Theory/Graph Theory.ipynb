{
 "cells": [
  {
   "cell_type": "markdown",
   "metadata": {},
   "source": [
    "# Graph Theory"
   ]
  },
  {
   "cell_type": "markdown",
   "metadata": {},
   "source": [
    "## İçerik\n",
    "* [Graph Theory](#1)\n",
    "* [Adjacency Matrix and Adjacency List](#2)\n",
    "* [Adjacency List with Python](#3)\n",
    "* [Depth First Search (DFS)](#4)\n",
    "* [Depth First Search with Python](#5)\n",
    "* [Breadth First Search (BFS)](#6)\n",
    "* [Breadth First Search with Python](#7)\n",
    "* [Graph Theory İş Mülakatları Soru-Cevap](#55)\n",
    "* [Graph Theory Python Challenge/Problem](#66)\n",
    "* [Neler Öğrendik](#77)"
   ]
  },
  {
   "cell_type": "markdown",
   "metadata": {},
   "source": [
    "<a id=\"1\"></a>\n",
    "## Graph Theory\n",
    "* Graph'lar bir tree'lerden daha genel data structure'lardır.\n",
    "* Trees özel graph çeşididir.\n",
    "* Gerçek hayatta karşılaşılan problemleri graph theory kullanarak ifade edebiliriz.\n",
    "* Mesela bir ülkede ki hava trafiği, yada internet bağlantısı\n",
    "* Yani graph teory gerçek hayatta karşılaşılan problemleri çözmek için sıklıkla kullanılır.\n",
    "* Graphs iki temel bileşenden oluşur.\n",
    "    * Node(vertex)\n",
    "    * Edge (E): connection between two nodes(vertices).\n",
    "    * Edge iki yönlü olabilir.\n",
    "        * Eğer edge tek yönlü ise directed graph yada diagraph denir.\n",
    "        * Eğer yönü yok ise un-directed graph denir.\n",
    "* Vertices = V = (Ankara, Burdur, Antalya, Konya,Afyon)\n",
    "* E = {(Ankara, Afyon,300),(Burdur, Antalya,200)...}\n",
    "* Formal graph gösterimi => G= (V,E)\n",
    "* Path: edge'ler ile birbirine bağlanan node sırası\n",
    "    * Path from Ankara to Antalya: (Ankara,Afyon, Burdur, Antalya)\n",
    "    * Path is sequence of vertices that are connected by edges.\n",
    "* Cycle graph: bir path'in bir node'dan başlayıp aynı node'da bitmesi.\n",
    "    * Mesela aşağıda görünen graph bir cycle graph. Ankarada başlamış ve Ankara da bitmiş.\n",
    "* ![Time](graph.jpg)"
   ]
  },
  {
   "cell_type": "markdown",
   "metadata": {},
   "source": [
    "<a id=\"2\"></a>\n",
    "## Adjacency Matrix and Adjacency List\n",
    "* Graph'ı ifade etmenin en kolay yollarından bir tanesi 2 boyutlu matrix kullanmaktır.\n",
    "* Her bir row and column graph'ın node'larıdır.\n",
    "* Adjacent komşu demek. Tanımı ise 2 tane node'un bir edge ile bağlanması sonucu ortaya çıkan yapıya adjacent denir.\n",
    "* Küçük graph'lar için adjaceny matrix kullanmak görme açısından kolaylık sağlar.\n",
    "* Ama gördüğünüz gibi matrix içerisinde çok fazla sayıda boş cell var. Yani boşuna yer kaplıyor. Bu boşukları azaltmanın yolu graph'da edge sayısını arttırmak. Bu nedenle eğer bir graph da edge sayısı fazla ise adjaceny matrix kullanmak avantajlıdır.\n",
    "* Eğer graph da çok sayıda edge yoksa adjaceny matrix yerine adjaceny list kullanmayı tercih etmeliyiz.\n",
    "* ![Time](adjaceny matrix.jpg)\n",
    "* Adjaceny list matrixe göre daha fazla space efficient.\n",
    "* ![Time](adjaceny list.jpg)"
   ]
  },
  {
   "cell_type": "markdown",
   "metadata": {},
   "source": [
    "<a id=\"3\"></a>\n",
    "## Adjacency List with Python\n",
    "* Graph(): bos graph yaratır.\n",
    "* addVertex(vert): graph içerisine node ekler.\n",
    "* addEdge(fromVert, toVert): iki node'u birbirine bağlayan directed edge ekler.\n",
    "* addEdge(fromVert, toVert, weight): iki node'u birbirine bağlayan weighted ve directed edge ekler.\n",
    "* getVertex(vertKey): graph içerisinde node bulur.\n",
    "* getVertices(): node'ları return eder."
   ]
  },
  {
   "cell_type": "code",
   "execution_count": 9,
   "metadata": {},
   "outputs": [],
   "source": [
    "class Vertex:\n",
    "    def __init__(self,key):\n",
    "        \"\"\"\n",
    "        node constructor\n",
    "        \"\"\"\n",
    "        self.id = key\n",
    "        self.connectedTo = {}\n",
    "    \n",
    "    def addNeighbor(self,neighbor,weight = 0):\n",
    "        self.connectedTo[neighbor] = weight\n",
    "        \n",
    "    def __str__(self):\n",
    "        return str(self.id) + \"  connected to: \"+ str([x.id for x in self.connectedTo])\n",
    "    \n",
    "    def getConnections(self):\n",
    "        return self.connectedTo.keys()\n",
    "    \n",
    "    def getId(self):\n",
    "        return self.id\n",
    "    \n",
    "    def getWeight(self,neighbor):\n",
    "        return self.connectedTo[neighbor]"
   ]
  },
  {
   "cell_type": "code",
   "execution_count": 10,
   "metadata": {},
   "outputs": [],
   "source": [
    "class Graph:\n",
    "    \n",
    "    def __init__(self):\n",
    "        self.vertList = {}\n",
    "        self.numVertices = 0\n",
    "    \n",
    "    def addVertex(self,key):\n",
    "        self.numVertices += 1\n",
    "        newVertex = Vertex(key)\n",
    "        self.vertList[key] = newVertex\n",
    "        return newVertex\n",
    "    \n",
    "    def getVertex(self,n):\n",
    "        if n is self.vertList:\n",
    "            return vertList[n]\n",
    "        else:\n",
    "            return None\n",
    "    \n",
    "    def __contains__(self,n):\n",
    "        return n in self.vertList\n",
    "    \n",
    "    def addEdge(self,f,t,cost = 0): # f: from , t = to\n",
    "        if f not in self.vertList:\n",
    "            nv = self.addVertex(f)\n",
    "        if t not in self.vertList:\n",
    "            nv = self.addVertex(t)\n",
    "        self.vertList[f].addNeighbor(self.vertList[t],cost)\n",
    "        \n",
    "    def getVertices(self):\n",
    "        return self.vertList.keys()\n",
    "    \n",
    "    def __iter__(self):\n",
    "        return iter(self.vertList.values())"
   ]
  },
  {
   "cell_type": "code",
   "execution_count": 11,
   "metadata": {},
   "outputs": [],
   "source": [
    "g = Graph()"
   ]
  },
  {
   "cell_type": "code",
   "execution_count": 15,
   "metadata": {},
   "outputs": [
    {
     "data": {
      "text/plain": [
       "{1: <__main__.Vertex at 0x1c3c4a6bf98>,\n",
       " 2: <__main__.Vertex at 0x1c3c4a6bfd0>,\n",
       " 3: <__main__.Vertex at 0x1c3c4afada0>,\n",
       " 4: <__main__.Vertex at 0x1c3c4afad30>,\n",
       " 5: <__main__.Vertex at 0x1c3c4afadd8>}"
      ]
     },
     "execution_count": 15,
     "metadata": {},
     "output_type": "execute_result"
    }
   ],
   "source": [
    "g.addVertex(1)\n",
    "g.addVertex(2)\n",
    "g.addVertex(3)\n",
    "g.addVertex(4)\n",
    "g.addVertex(5)\n",
    "g.vertList"
   ]
  },
  {
   "cell_type": "code",
   "execution_count": 32,
   "metadata": {},
   "outputs": [],
   "source": [
    "g.addEdge(1,2,0)\n",
    "g.addEdge(1,3,0)\n",
    "g.addEdge(5,3,0)\n",
    "g.addEdge(2,4,0)\n",
    "g.addEdge(4,2,0)"
   ]
  },
  {
   "cell_type": "code",
   "execution_count": 33,
   "metadata": {},
   "outputs": [
    {
     "name": "stdout",
     "output_type": "stream",
     "text": [
      "1  connected to: [2, 3]\n",
      "dict_keys([<__main__.Vertex object at 0x000001C3C4A6BFD0>, <__main__.Vertex object at 0x000001C3C4AFADA0>])\n",
      "2  connected to: [4]\n",
      "dict_keys([<__main__.Vertex object at 0x000001C3C4AFAD30>])\n",
      "3  connected to: []\n",
      "dict_keys([])\n",
      "4  connected to: [2]\n",
      "dict_keys([<__main__.Vertex object at 0x000001C3C4A6BFD0>])\n",
      "5  connected to: [3]\n",
      "dict_keys([<__main__.Vertex object at 0x000001C3C4AFADA0>])\n"
     ]
    }
   ],
   "source": [
    "for v in g:\n",
    "    print(v)\n",
    "    print(v.getConnections())"
   ]
  },
  {
   "cell_type": "markdown",
   "metadata": {},
   "source": [
    "<a id=\"4\"></a>\n",
    "## Depth First Search (DFS)\n",
    "* Derin öncelikli arama olarak geçer.\n",
    "* Bir tree(graph) traverse algoritmasıdır.\n",
    "* Depth First Search ilk önce alt seviyesinde bulunan node'ların aranması durumudur.\n",
    "* ![Time](dfs.jpg)"
   ]
  },
  {
   "cell_type": "markdown",
   "metadata": {},
   "source": [
    "<a id=\"5\"></a>\n",
    "## Depth First Search with Python"
   ]
  },
  {
   "cell_type": "code",
   "execution_count": 54,
   "metadata": {},
   "outputs": [
    {
     "name": "stdout",
     "output_type": "stream",
     "text": [
      "{'A': {'C', 'B'}, 'B': {'A', 'D', 'E'}, 'C': {'A', 'F'}, 'D': {'B'}, 'E': {'B', 'F'}, 'F': {'C', 'E'}}\n"
     ]
    }
   ],
   "source": [
    "graph = { \"A\" : set([\"B\",\"C\"]),\n",
    "          \"B\" : set([\"A\",\"D\",\"E\"]),\n",
    "          \"C\" : set([\"A\",\"F\"]),\n",
    "          \"D\" : set([\"B\"]),\n",
    "          \"E\" : set([\"B\",\"F\"]),\n",
    "          \"F\" : set([\"C\",\"E\"])}\n",
    "print(graph)"
   ]
  },
  {
   "cell_type": "code",
   "execution_count": 67,
   "metadata": {},
   "outputs": [],
   "source": [
    "def dfs(graph,start):\n",
    "    visited = set()\n",
    "    stack = [start]\n",
    "    while stack:\n",
    "        vertex = stack.pop()\n",
    "        if vertex not in visited:\n",
    "            visited.add(vertex)\n",
    "            stack.extend(graph[vertex] - visited)\n",
    "        print(visited)\n",
    "    return visited"
   ]
  },
  {
   "cell_type": "code",
   "execution_count": 68,
   "metadata": {},
   "outputs": [
    {
     "name": "stdout",
     "output_type": "stream",
     "text": [
      "{'A'}\n",
      "{'A', 'B'}\n",
      "{'A', 'B', 'E'}\n",
      "{'A', 'B', 'E', 'F'}\n",
      "{'A', 'F', 'B', 'C', 'E'}\n",
      "{'A', 'F', 'B', 'C', 'D', 'E'}\n",
      "{'A', 'F', 'B', 'C', 'D', 'E'}\n"
     ]
    },
    {
     "data": {
      "text/plain": [
       "{'A', 'B', 'C', 'D', 'E', 'F'}"
      ]
     },
     "execution_count": 68,
     "metadata": {},
     "output_type": "execute_result"
    }
   ],
   "source": [
    "dfs(graph,\"A\")"
   ]
  },
  {
   "cell_type": "markdown",
   "metadata": {},
   "source": [
    "<a id=\"6\"></a>\n",
    "## Breadth First Search (BFS)\n",
    "* Sığ öncelikli arama olarak geçer.\n",
    "* Bir tree(graph) traverse algoritmasıdır.\n",
    "* Breadth First Search ilk önce aynı seviyede bulunan node'ların aranması durumudur.\n",
    "* ![Time](bfs.jpg)"
   ]
  },
  {
   "cell_type": "markdown",
   "metadata": {},
   "source": [
    "<a id=\"7\"></a>\n",
    "## Breadth First Search with Python"
   ]
  },
  {
   "cell_type": "code",
   "execution_count": 69,
   "metadata": {},
   "outputs": [
    {
     "name": "stdout",
     "output_type": "stream",
     "text": [
      "{'A': {'C', 'B'}, 'B': {'A', 'D', 'E'}, 'C': {'A', 'F'}, 'D': {'B'}, 'E': {'B', 'F'}, 'F': {'C', 'E'}}\n"
     ]
    }
   ],
   "source": [
    "graph = {'A': set(['B', 'C']),\n",
    "         'B': set(['A', 'D', 'E']),\n",
    "         'C': set(['A', 'F']),\n",
    "         'D': set(['B']),\n",
    "         'E': set(['B', 'F']),\n",
    "         'F': set(['C', 'E'])}\n",
    "print(graph)"
   ]
  },
  {
   "cell_type": "code",
   "execution_count": 75,
   "metadata": {},
   "outputs": [],
   "source": [
    "def bfs(graph,start):\n",
    "    visited = set()\n",
    "    queue = [start]\n",
    "    \n",
    "    while queue:\n",
    "        vertex = queue.pop(0)\n",
    "        if vertex not in visited:\n",
    "            visited.add(vertex)\n",
    "            queue.extend(graph[vertex] - visited)\n",
    "    return visited"
   ]
  },
  {
   "cell_type": "code",
   "execution_count": 76,
   "metadata": {},
   "outputs": [
    {
     "data": {
      "text/plain": [
       "{'A', 'B', 'C', 'D', 'E', 'F'}"
      ]
     },
     "execution_count": 76,
     "metadata": {},
     "output_type": "execute_result"
    }
   ],
   "source": [
    "bfs(graph,\"A\")"
   ]
  },
  {
   "cell_type": "markdown",
   "metadata": {},
   "source": [
    "<a id=\"55\"></a>\n",
    "## Graph Theory İş Mülakatları Soru-Cevap\n",
    "* Graph nedir?\n",
    "    * Node'lar ve edge'lerden oluşan bir yapı.\n",
    "* Neden graph kullanırız?\n",
    "    * Karmaşık problemleri anlaşılır hale getirir\n",
    "    * Problem tipine göre diğer veri yapılarından hızlı ve effective olduğu durumlar vardır.\n",
    "* Undirected ve directed graph arasında fark nedir?\n",
    "    * Undirected: edge'ler belirli bir yönü göstermez\n",
    "    * Directed: edge'ler belirli bir yönü gösterir\n",
    "* Weighted edge ne demektir?\n",
    "    * Bİr graph üstünde ki edge'lerin belirli bir weight yada cost'larının olması demektir.\n",
    "* Tree ile Graph arasında ki ilişki nedir?\n",
    "    * Tree graph'ın özelleşmiş halidir.\n",
    "* Aşağıda bulunan graph'ın adjacent matrix şeklinde gösterin.\n",
    "    * ![Time](admatq.jpg)\n",
    "* Aşağıda bulunan graph'ın adjacent list şeklinde gösterin.\n",
    "    * ![Time](adlistq.jpg)\n",
    "* Aşağıdaki graph'ı breath search'e göre traverse edin. (1,2,3,4,5,6,7,8,9,10,11,12)\n",
    "* ![Time](bsq.jpg)"
   ]
  },
  {
   "cell_type": "markdown",
   "metadata": {},
   "source": [
    "<a id=\"66\"></a>\n",
    "## Graph Theory Python Challenge/Problem\n",
    "1. Vertex Covering"
   ]
  },
  {
   "cell_type": "markdown",
   "metadata": {},
   "source": [
    "### 1) Vertex Covering\n",
    "* ![Time](Challenge.jpg)\n",
    "* Input: [\"(A,B,C,D)\",\"(A-B,A-D,B-D,A-C)\",\"(A,B)\"]\n",
    "* Output: \"yes\"\n",
    "* Input: [\"(A,B,C,D)\",\"(A-B,A-D,B-D,A-C)\",\"(C)\"]\n",
    "* Output: \"(A-B,A-D,B-D)\"\n",
    "* Input: [\"(A,B,C,D)\",\"(A-B,A-D,B-D,A-C)\",\"(C,B)\"]\n",
    "* Output: (A-D)"
   ]
  },
  {
   "cell_type": "code",
   "execution_count": 96,
   "metadata": {},
   "outputs": [],
   "source": [
    "def vertexCovering(a):\n",
    "    vertices = a[2][1:-1].split(\",\")\n",
    "    graph = a[1][1:-1].split(\",\")\n",
    "    failed = []\n",
    "    \n",
    "    if len(vertices[0]) == 0:\n",
    "        return a[1]\n",
    "    for i in graph:\n",
    "        flag = True\n",
    "        for x in vertices:\n",
    "            if x in i:\n",
    "                flag = False\n",
    "        if flag:\n",
    "            failed.append(i)\n",
    "    if len(failed) > 0:\n",
    "        return \"(\" + \",\".join(failed)  + \")\" \n",
    "    return \"yes\""
   ]
  },
  {
   "cell_type": "code",
   "execution_count": 97,
   "metadata": {},
   "outputs": [
    {
     "name": "stdout",
     "output_type": "stream",
     "text": [
      "yes\n",
      "(A-D)\n"
     ]
    }
   ],
   "source": [
    "a = vertexCovering([\"(A,B,C,D)\",\"(A-B,A-D,B-D,A-C)\",\"(A,B)\"])\n",
    "print(a)\n",
    "b = vertexCovering([\"(A,B,C,D)\",\"(A-B,A-D,B-D,A-C)\",\"(C,B)\"])\n",
    "print(b)\n"
   ]
  },
  {
   "cell_type": "markdown",
   "metadata": {},
   "source": [
    "<a id=\"77\"></a>\n",
    "## Neler Öğrendik\n",
    "* Graph Theory\n",
    "* Adjacency Matrix and Adjacency List\n",
    "* Adjacency List with Python\n",
    "* Depth First Search (DFS)\n",
    "* Depth First Search with Python\n",
    "* Breadth First Search (BFS)\n",
    "* Breadth First Search with Python\n",
    "* Graph Theory İş Mülakatları Soru-Cevap\n",
    "* Graph Theory Python Challenge/Problem"
   ]
  }
 ],
 "metadata": {
  "kernelspec": {
   "display_name": "Python 3",
   "language": "python",
   "name": "python3"
  },
  "language_info": {
   "codemirror_mode": {
    "name": "ipython",
    "version": 3
   },
   "file_extension": ".py",
   "mimetype": "text/x-python",
   "name": "python",
   "nbconvert_exporter": "python",
   "pygments_lexer": "ipython3",
   "version": "3.6.5"
  }
 },
 "nbformat": 4,
 "nbformat_minor": 2
}
