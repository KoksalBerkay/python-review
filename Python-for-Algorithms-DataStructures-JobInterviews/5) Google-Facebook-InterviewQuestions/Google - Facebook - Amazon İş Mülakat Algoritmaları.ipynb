{
 "cells": [
  {
   "cell_type": "markdown",
   "metadata": {},
   "source": [
    "# Google - Facebook - Amazon İş Mülakat Algoritmaları"
   ]
  },
  {
   "cell_type": "markdown",
   "metadata": {},
   "source": [
    "## İçerik:\n",
    "* [Google](#1)\n",
    "    * [Stock Maximum Profit](#2)\n",
    "    * [Step Counting Using Recursion](#3)\n",
    "    * [String Combinations Consisting only of 0, 1 and ?](#4)\n",
    "* [Facebook](#5)\n",
    "    * [Find All Duplicates in Array in Linear Time](#6)\n",
    "    * [Dutch National Flag Sorting Problem](#7)\n",
    "* [Amazon](#8)\n",
    "    * [Generate Primes Up To N Using Sieve of Eratosthenes Algorithm](#9)\n",
    "* [Neler Öğrendik](#10)"
   ]
  },
  {
   "cell_type": "markdown",
   "metadata": {},
   "source": [
    "<a id=\"1\"></a>\n",
    "## Google\n",
    "* [Stock Maximum Profit](#2)\n",
    "* [Step Counting Using Recursion](#3)\n",
    "* [String Combinations Consisting only of 0, 1 and ?](#4)"
   ]
  },
  {
   "cell_type": "markdown",
   "metadata": {},
   "source": [
    "<a id=\"2\"></a>\n",
    "### Stock Maximum Profit"
   ]
  },
  {
   "cell_type": "markdown",
   "metadata": {},
   "source": [
    "* You will be given a list of stock prices for a given day and your goal is to return the maximum profit that could have been made by buying a stock at the given price and then selling the stock later on. For example if the input is: [45, 24, 35, 31, 40, 38, 11] then your program should return 16 because if you bought the stock at dolar 24 and sold it at dolar 40, a profit of dolar 16 was made and this is the largest profit that could be made. If no profit could have been made, return -1.\n",
    "* Örneğin: buy_price = 24, sell_price = 35, max_profit = 11"
   ]
  },
  {
   "cell_type": "code",
   "execution_count": 26,
   "metadata": {},
   "outputs": [],
   "source": [
    "def stockPrice(arr):\n",
    "    \n",
    "    max_profit = -1\n",
    "    buy_price = 0\n",
    "    sell_price = 0\n",
    "    \n",
    "    change_buy_index = True\n",
    "    \n",
    "    # loop through list\n",
    "    for i in range(0,len(arr)-1):\n",
    "        \n",
    "        # selling price\n",
    "        sell_price = arr[i+1]\n",
    "        \n",
    "        # buting price = current price\n",
    "        if change_buy_index:\n",
    "            buy_price = arr[i]\n",
    "            \n",
    "        if sell_price < buy_price:\n",
    "            change_buy_index = True\n",
    "            continue # no profit\n",
    "        else:\n",
    "            temp_profit = sell_price - buy_price # positif = kar\n",
    "            if temp_profit > max_profit:\n",
    "                max_profit = temp_profit\n",
    "            change_buy_index = False\n",
    "    return max_profit"
   ]
  },
  {
   "cell_type": "code",
   "execution_count": 29,
   "metadata": {},
   "outputs": [
    {
     "data": {
      "text/plain": [
       "338"
      ]
     },
     "execution_count": 29,
     "metadata": {},
     "output_type": "execute_result"
    }
   ],
   "source": [
    "stockPrice([10,45,6,64,344,22,89,99])"
   ]
  },
  {
   "cell_type": "markdown",
   "metadata": {},
   "source": [
    "<a id=\"3\"></a>\n",
    "### Step Counting Using Recursion"
   ]
  },
  {
   "cell_type": "markdown",
   "metadata": {},
   "source": [
    "* Suppose you want climb a staircase of N steps, and on each step you can take either 1 or 2 steps. How many distinct ways are there to climb the staircase? For example, if you wanted to climb 4 steps, you can take the following distinct number of steps\n",
    "\n",
    "* 1) 1, 1, 1, 1\n",
    "* 2) 1, 1, 2\n",
    "* 3) 1, 2, 1\n",
    "* 4) 2, 1, 1\n",
    "* 5) 2, 2"
   ]
  },
  {
   "cell_type": "code",
   "execution_count": 1,
   "metadata": {},
   "outputs": [],
   "source": [
    "def countStep(N):\n",
    "    \n",
    "    # base case 1\n",
    "    if N == 1:\n",
    "        return 1\n",
    "    # base case 2\n",
    "    if N == 2:\n",
    "        return 2\n",
    "    \n",
    "    return countStep(N-1) + countStep(N-2)"
   ]
  },
  {
   "cell_type": "code",
   "execution_count": null,
   "metadata": {},
   "outputs": [],
   "source": [
    "# N = 4\n",
    "#          countStep(3)             +   countStep(2)\n",
    "# countStep(2) + countStep(1)       +        2\n",
    "#      2       +      1 "
   ]
  },
  {
   "cell_type": "code",
   "execution_count": 3,
   "metadata": {},
   "outputs": [
    {
     "data": {
      "text/plain": [
       "8"
      ]
     },
     "execution_count": 3,
     "metadata": {},
     "output_type": "execute_result"
    }
   ],
   "source": [
    "countStep(5)"
   ]
  },
  {
   "cell_type": "markdown",
   "metadata": {},
   "source": [
    "<a id=\"4\"></a>\n",
    "### String Combinations Consisting only of 0, 1 and ?\n",
    "* For this popular algorithm interview question, the input will be a string consisting only of the characters 0, 1 and ?, where the ? acts as a wildcard that can be either a 0 or 1, and your goal is to print all possible combinations of the string. For example, if the string is \"011?0\" then your program should output a set of all strings, which are: [\"01100\", \"01110\"]."
   ]
  },
  {
   "cell_type": "code",
   "execution_count": 4,
   "metadata": {},
   "outputs": [],
   "source": [
    "def patterns(str, all):\n",
    "    \n",
    "    # if string is empty\n",
    "    if len(str) == 0:\n",
    "        return all\n",
    "    # if str[0] == 1 yada == 0\n",
    "    if str[0] == \"0\" or str[0] == \"1\":\n",
    "        for i in range(0,len(all)):\n",
    "            all[i] .append(str[0])\n",
    "    # if str[0] == ?\n",
    "    \n",
    "    if str[0] == \"?\":\n",
    "        le = len(all)\n",
    "        for i in range(0,le):\n",
    "            temp = list(all[i])\n",
    "            all.append(temp)\n",
    "        for i in range(0,len(all)):\n",
    "            if i < len(all)/2:\n",
    "                all[i].append(\"0\")\n",
    "            else:\n",
    "                all[i].append(\"1\")\n",
    "    return patterns(str[1:],all)"
   ]
  },
  {
   "cell_type": "code",
   "execution_count": 5,
   "metadata": {},
   "outputs": [
    {
     "data": {
      "text/plain": [
       "[['0', '1', '1', '0', '0'], ['0', '1', '1', '1', '0']]"
      ]
     },
     "execution_count": 5,
     "metadata": {},
     "output_type": "execute_result"
    }
   ],
   "source": [
    "patterns(\"011?0\",[[]])"
   ]
  },
  {
   "cell_type": "markdown",
   "metadata": {},
   "source": [
    "<a id=\"5\"></a>\n",
    "## Facebook\n",
    "* [Find All Duplicates in Array in Linear Time](#6)\n",
    "* [Dutch National Flag Sorting Problem](#7)"
   ]
  },
  {
   "cell_type": "markdown",
   "metadata": {},
   "source": [
    "<a id=\"6\"></a>\n",
    "### Find All Duplicates in Array in Linear Time\n",
    "* This is a common interview question where you need to write a program to find all duplicates in an array where the numbers in the array are in the range of 0 to n-1 where n is the size of the array. For example: [1, 2, 3, 3] is okay but [1, 2, 6, 3] is not. In this version of the challenge there can be multiple duplicate numbers as well.\n"
   ]
  },
  {
   "cell_type": "code",
   "execution_count": 26,
   "metadata": {},
   "outputs": [],
   "source": [
    "def duplicates(arr):\n",
    "    \n",
    "    dups = []\n",
    "    \n",
    "    for i in range(0,len(arr)):\n",
    "        #print(arr)\n",
    "        if abs(arr[i]) == len(arr):\n",
    "            el = -1\n",
    "        else: \n",
    "            el = arr[abs(arr[i])]\n",
    "        \n",
    "        if el > 0:\n",
    "            arr[abs(arr[i])] = -arr[abs(arr[i])]\n",
    "        elif el == 0:\n",
    "            arr[abs(arr[i])] = -len(arr)\n",
    "        else:\n",
    "            if abs(arr[i]) == len(arr):\n",
    "                dups.append(0)\n",
    "            else:\n",
    "                dups.append(abs(arr[i]))\n",
    "        #print(dups)\n",
    "    return dups\n"
   ]
  },
  {
   "cell_type": "code",
   "execution_count": 28,
   "metadata": {},
   "outputs": [
    {
     "data": {
      "text/plain": [
       "[]"
      ]
     },
     "execution_count": 28,
     "metadata": {},
     "output_type": "execute_result"
    }
   ],
   "source": [
    "duplicates([2,0,1,3,5,6,4])"
   ]
  },
  {
   "cell_type": "markdown",
   "metadata": {},
   "source": [
    "<a id=\"7\"></a>\n",
    "### Dutch National Flag Sorting Problem\n",
    "* For this problem, your goal is to sort an array of 0, 1 and 2's but you must do this in place, in linear time and without any extra space (such as creating an extra array). This is called the Dutch national flag sorting problem. For example, if the input array is [2,0,0,1,2,1] then your program should output [0,0,1,1,2,2] and the algorithm should run in O(n) time."
   ]
  },
  {
   "cell_type": "code",
   "execution_count": 33,
   "metadata": {},
   "outputs": [],
   "source": [
    "def swap(arr,i1,i2):\n",
    "    temp = arr[i1]\n",
    "    arr[i1] = arr[i2]\n",
    "    arr[i2] = temp\n",
    "    \n",
    "def natFlag(arr):\n",
    "    \n",
    "    low = 0\n",
    "    mid = 0\n",
    "    high = len(arr) - 1\n",
    "    \n",
    "    while mid <= high:\n",
    "        if arr[mid] == 0:\n",
    "            swap(arr,low,mid)\n",
    "            low += 1\n",
    "            mid +=1\n",
    "        elif arr[mid] == 2:\n",
    "            swap(arr,mid,high)\n",
    "            high -= 1\n",
    "        elif arr[mid] == 1:\n",
    "            mid += 1\n",
    "    return arr"
   ]
  },
  {
   "cell_type": "code",
   "execution_count": 34,
   "metadata": {},
   "outputs": [
    {
     "data": {
      "text/plain": [
       "[0, 0, 1, 1, 2, 2]"
      ]
     },
     "execution_count": 34,
     "metadata": {},
     "output_type": "execute_result"
    }
   ],
   "source": [
    "natFlag([2,0,0,1,2,1])"
   ]
  },
  {
   "cell_type": "markdown",
   "metadata": {},
   "source": [
    "<a id=\"8\"></a>\n",
    "## Amazon\n",
    "* [Generate Primes Up To N Using Sieve of Eratosthenes Algorithm](#9)"
   ]
  },
  {
   "cell_type": "markdown",
   "metadata": {},
   "source": [
    "<a id=\"9\"></a>\n",
    "### Generate Primes Up To N Using Sieve of Eratosthenes Algorithm\n",
    "* The sieve of Eratosthenes algorithm generates all the primes up to a given limit. This is a common and fast algorithm used to generate a list of primes up to a given limit. It works by making a list from 1 to N, and then iterating through the list and progressively removing non-prime, composite numbers until only primes are left in a list.\n",
    "* 1  2  3  4  5  6  7  8  9  10 11 12 13 14 15 16 17 18 19 20 21 22 23 24 25 26 27 28 29 30\n",
    "* 2  3  5  7  11  13  17  19   23  29"
   ]
  },
  {
   "cell_type": "code",
   "execution_count": 47,
   "metadata": {},
   "outputs": [],
   "source": [
    "def sieve(limit):\n",
    "    \n",
    "    bools = []\n",
    "    primes = []\n",
    "    \n",
    "    for i in range(1,limit):\n",
    "        bools.append(True)\n",
    "    \n",
    "    for i in range(2,limit):\n",
    "        if bools[i-2]:\n",
    "            for j in range(i*2,limit + 1,i):\n",
    "                bools[j-2] = False\n",
    "    for p in range(0,len(bools)):\n",
    "        if bools[p]:\n",
    "            primes.append(p+2)\n",
    "    return primes"
   ]
  },
  {
   "cell_type": "code",
   "execution_count": 48,
   "metadata": {},
   "outputs": [
    {
     "data": {
      "text/plain": [
       "[2, 3, 5, 7, 11, 13]"
      ]
     },
     "execution_count": 48,
     "metadata": {},
     "output_type": "execute_result"
    }
   ],
   "source": [
    "sieve(13)"
   ]
  },
  {
   "cell_type": "markdown",
   "metadata": {},
   "source": [
    "<a id=\"10\"></a>\n",
    "## Neler Öğrendik\n",
    "* Google\n",
    "    * Stock Maximum Profit\n",
    "    * Step Counting Using Recursion\n",
    "    * String Combinations Consisting only of 0, 1 and ?\n",
    "* Facebook\n",
    "    * Find All Duplicates in Array in Linear Time\n",
    "    * Dutch National Flag Sorting Problem\n",
    "* Amazon\n",
    "    * Generate Primes Up To N Using Sieve of Eratosthenes Algorithm\n",
    "    \n",
    "Bölüm ana fikri?"
   ]
  }
 ],
 "metadata": {
  "kernelspec": {
   "display_name": "Python 3",
   "language": "python",
   "name": "python3"
  },
  "language_info": {
   "codemirror_mode": {
    "name": "ipython",
    "version": 3
   },
   "file_extension": ".py",
   "mimetype": "text/x-python",
   "name": "python",
   "nbconvert_exporter": "python",
   "pygments_lexer": "ipython3",
   "version": "3.6.5"
  }
 },
 "nbformat": 4,
 "nbformat_minor": 2
}
