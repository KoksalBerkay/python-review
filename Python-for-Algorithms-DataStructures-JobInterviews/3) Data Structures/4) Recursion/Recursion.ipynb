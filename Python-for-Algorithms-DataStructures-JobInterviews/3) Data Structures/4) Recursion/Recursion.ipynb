{
 "cells": [
  {
   "cell_type": "markdown",
   "metadata": {},
   "source": [
    "# Recursion"
   ]
  },
  {
   "cell_type": "markdown",
   "metadata": {},
   "source": [
    "## İçerik:\n",
    "* [Recursion](#1)\n",
    "* [Recursion İş Mülakatları Soru-Cevap](#5)\n",
    "* [Recursion Python Challenge/Problem](#6)\n",
    "* [Neler Öğrendik](#99)"
   ]
  },
  {
   "cell_type": "markdown",
   "metadata": {},
   "source": [
    "<a id=\"1\"></a>\n",
    "## Recursion\n",
    "* Bir yapının yinelenmesidir. Recursive(özyineli) metotlar yinelemeli metotlar olarak adlandırılır.\n",
    "* Bir fonksiyonun kendini bir veya birden fazla kez çağırmasıdır.\n",
    "* For loop yada while loop optimal çözümler olmadığı durumlarda recursion metodu çook kullanılır.\n",
    "* Recursion neredeyse tüm modern programlama dillerinde bulunur.\n",
    "* Bir örnek ile daha iyi anlayalım.\n",
    "* Faktöriyel: n! = n(n-1)(n-2)...1 => 5! = 5x4x3x2x1 = 120\n",
    "* Şimdi faktöriyel problemini recursion ile çözelim.\n",
    "    * 5! = 5 x 4! => n! = n(n-1)!   eğer n = 0, n! = 1\n",
    "    * ![Time](ex_fac.jpg)"
   ]
  },
  {
   "cell_type": "code",
   "execution_count": 1,
   "metadata": {},
   "outputs": [],
   "source": [
    "# recursion\n",
    "def factorial(n):\n",
    "    print(n)\n",
    "    \n",
    "    # base case\n",
    "    if n == 0:\n",
    "        return 1\n",
    "    else:\n",
    "        return n * factorial(n-1)  # n*(n-1)!"
   ]
  },
  {
   "cell_type": "code",
   "execution_count": 3,
   "metadata": {},
   "outputs": [
    {
     "name": "stdout",
     "output_type": "stream",
     "text": [
      "5\n",
      "4\n",
      "3\n",
      "2\n",
      "1\n",
      "0\n"
     ]
    },
    {
     "data": {
      "text/plain": [
       "120"
      ]
     },
     "execution_count": 3,
     "metadata": {},
     "output_type": "execute_result"
    }
   ],
   "source": [
    "factorial(5)"
   ]
  },
  {
   "cell_type": "code",
   "execution_count": 4,
   "metadata": {},
   "outputs": [],
   "source": [
    "def summation(n):\n",
    "    print(n)\n",
    "    # base case\n",
    "    if n == 0:\n",
    "        return 0\n",
    "    else:\n",
    "        return n + summation(n-1)"
   ]
  },
  {
   "cell_type": "code",
   "execution_count": 5,
   "metadata": {},
   "outputs": [],
   "source": [
    "# summation(3)=6\n",
    "#           3 + (summation(2)=3)\n",
    "#                         2 + (summation(1)=1)  \n",
    "#                                       1 + (summation(0)=0)  "
   ]
  },
  {
   "cell_type": "code",
   "execution_count": 6,
   "metadata": {},
   "outputs": [
    {
     "name": "stdout",
     "output_type": "stream",
     "text": [
      "3\n",
      "2\n",
      "1\n",
      "0\n"
     ]
    },
    {
     "data": {
      "text/plain": [
       "6"
      ]
     },
     "execution_count": 6,
     "metadata": {},
     "output_type": "execute_result"
    }
   ],
   "source": [
    "summation(3)  #  3+2+1 = 6"
   ]
  },
  {
   "cell_type": "code",
   "execution_count": 70,
   "metadata": {},
   "outputs": [],
   "source": [
    "# deneme(1)=12\n",
    "#        2 * (deneme(2)=6)\n",
    "#                   2 * (deneme(3)=3)"
   ]
  },
  {
   "cell_type": "code",
   "execution_count": 71,
   "metadata": {},
   "outputs": [
    {
     "data": {
      "text/plain": [
       "12"
      ]
     },
     "execution_count": 71,
     "metadata": {},
     "output_type": "execute_result"
    }
   ],
   "source": [
    "# Recursion soru \n",
    "def deneme(n):\n",
    "    \n",
    "    # base case\n",
    "    if n == 3:\n",
    "       return n\n",
    "    \n",
    "    return 2 * deneme(n + 1)\n",
    "\n",
    "deneme(1)"
   ]
  },
  {
   "cell_type": "markdown",
   "metadata": {},
   "source": [
    "<a id=\"5\"></a>\n",
    "## Recursion İş Mülakatları Soru-Cevap\n",
    "* Recursion ne demektir?\n",
    "    * Bir fonksiyonun kendini çağırmasına recursion yani yineleme denir.\n",
    "* Base condition nedir?\n",
    "    * Recursion problemlerinde büyük bir problem küçük problemlere bölünür. Bu bölünen küçük problemlerin temeli base case olarak adlandırılır ve burada amaç base case durumunu sağlamaktır. Base case recursion'ı durduran en temel parçasıdır.\n",
    "* Advantages of Recursion\n",
    "    1. Recursive kodun güzel ve zarif görünmesini sağlar\n",
    "    1. Recursion kullanarak complex problemler daha küçük sub problemlere dönüştürülebilir.\n",
    "* Disadvantages of Recursion\n",
    "    1. Anlaması zordur yani recursion algoritması kurmak zordur\n",
    "    1. Recursive memory ve zaman açısından effective değildir\n",
    "    1. Debug etmesi zordur\n",
    "* Bir probleme recursive metot uygulamak için düşünülmesi gereken ilk adımlar nelerdir?\n",
    "    * Problemi en basit yoluyla nasıl çözeceğimiz yani base case'i bulmak.\n",
    "    * Problemi küçük sub problemlere nasıl bölüneceğinin bulunması\n",
    "* Recursion ve Iteration arasında nasıl bir ilişki var?\n",
    "    * Iteration(for/while loops) ile çözülebilen problemler, recursion kullanılarak da çözülebilir"
   ]
  },
  {
   "cell_type": "markdown",
   "metadata": {},
   "source": [
    "<a id=\"6\"></a>\n",
    "## Recursion Python Challenge/Problem\n",
    "1. Recursion ile String'in Tersini Bulmak (Reverse String)\n",
    "2. Recursion ile matematiksel işlem: x*y\n",
    "3. Recursion ile matematiksel işlem: x^y"
   ]
  },
  {
   "cell_type": "markdown",
   "metadata": {},
   "source": [
    "### 1) Recursion ile String'in Tersini Bulmak (Reverse String)\n",
    "* input: \"deep\"\n",
    "* output: \"peed\""
   ]
  },
  {
   "cell_type": "code",
   "execution_count": 72,
   "metadata": {},
   "outputs": [],
   "source": [
    "# reverse(deep) = peed\n",
    "#           (reverse(eep)=pee) + d\n",
    "#                   (reverse(ep)=pe) + e\n",
    "#                          (reverse(p) = p) + e\n",
    "# yapılan işlemlerin sayısı string'in uzunluğuna eşit olunca duruyor. "
   ]
  },
  {
   "cell_type": "code",
   "execution_count": 9,
   "metadata": {},
   "outputs": [],
   "source": [
    "def reverse(string):\n",
    "   \n",
    "    # base case\n",
    "    if len(string) <= 1:\n",
    "        return string\n",
    "    \n",
    "    # recursion\n",
    "    return reverse(string[1:]) + string[0]"
   ]
  },
  {
   "cell_type": "code",
   "execution_count": 10,
   "metadata": {},
   "outputs": [
    {
     "data": {
      "text/plain": [
       "'peed'"
      ]
     },
     "execution_count": 10,
     "metadata": {},
     "output_type": "execute_result"
    }
   ],
   "source": [
    "reverse(\"deep\")"
   ]
  },
  {
   "cell_type": "markdown",
   "metadata": {},
   "source": [
    "### 2) Recursion ile matematiksel işlem: x*y\n",
    "* input: 2,3\n",
    "* output: 6 \n",
    "* her çarpma işlemi aynı zamanda bir toplama işlemidir. 2*3 = 2 + 2 + 2  "
   ]
  },
  {
   "cell_type": "code",
   "execution_count": 75,
   "metadata": {},
   "outputs": [],
   "source": [
    "# multiply(2,3) = 6\n",
    "#          2 + (multiply(2,2) = 4)\n",
    "#                      2 + (multiply(2,1)=2)\n",
    "#                              2 + (multiply(2,0) = 0)"
   ]
  },
  {
   "cell_type": "code",
   "execution_count": 11,
   "metadata": {},
   "outputs": [],
   "source": [
    "def multiply(x,y):\n",
    "    \n",
    "    # base case\n",
    "    if y == 0:\n",
    "        return 0\n",
    "    \n",
    "    # recursion\n",
    "    return (x + multiply(x,y-1))"
   ]
  },
  {
   "cell_type": "code",
   "execution_count": 12,
   "metadata": {},
   "outputs": [
    {
     "data": {
      "text/plain": [
       "6"
      ]
     },
     "execution_count": 12,
     "metadata": {},
     "output_type": "execute_result"
    }
   ],
   "source": [
    "multiply(2,3)"
   ]
  },
  {
   "cell_type": "markdown",
   "metadata": {},
   "source": [
    "### 3) Recursion ile matematiksel işlem: x^y\n",
    "* input: 2,3\n",
    "* output: 8\n",
    "* 2^3 = 2x2x2"
   ]
  },
  {
   "cell_type": "code",
   "execution_count": 78,
   "metadata": {},
   "outputs": [],
   "source": [
    "# power(2,3) = 8\n",
    "#        multiply(2, power(2,2)=4)\n",
    "#                     multiply(2,power(2,1)=2)  \n",
    "#                                     multiply(2,power(2,0)=1)"
   ]
  },
  {
   "cell_type": "code",
   "execution_count": 79,
   "metadata": {},
   "outputs": [],
   "source": [
    "def multiply(x,y):\n",
    "    \n",
    "    # base case\n",
    "    if y == 0:\n",
    "        return 0\n",
    "    # recursion\n",
    "    return (x + multiply(x,y-1))"
   ]
  },
  {
   "cell_type": "code",
   "execution_count": 13,
   "metadata": {},
   "outputs": [],
   "source": [
    "def power(a,b):\n",
    "    \n",
    "    # base case\n",
    "    if b == 0:\n",
    "        return 1\n",
    "    \n",
    "    # recursion\n",
    "    return multiply(a,power(a,b-1))"
   ]
  },
  {
   "cell_type": "code",
   "execution_count": 14,
   "metadata": {},
   "outputs": [
    {
     "data": {
      "text/plain": [
       "8"
      ]
     },
     "execution_count": 14,
     "metadata": {},
     "output_type": "execute_result"
    }
   ],
   "source": [
    "power(2,3)"
   ]
  },
  {
   "cell_type": "markdown",
   "metadata": {},
   "source": [
    "<a id=\"99\"></a>\n",
    "## Neler Öğrendik\n",
    "* Recursion\n",
    "* Recursion İş Mülakatları Soru-Cevap\n",
    "* Recursion Python Challenge/Problem"
   ]
  }
 ],
 "metadata": {
  "kernelspec": {
   "display_name": "Python 3",
   "language": "python",
   "name": "python3"
  },
  "language_info": {
   "codemirror_mode": {
    "name": "ipython",
    "version": 3
   },
   "file_extension": ".py",
   "mimetype": "text/x-python",
   "name": "python",
   "nbconvert_exporter": "python",
   "pygments_lexer": "ipython3",
   "version": "3.8.8"
  }
 },
 "nbformat": 4,
 "nbformat_minor": 2
}
